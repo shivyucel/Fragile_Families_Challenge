{
 "cells": [
  {
   "cell_type": "markdown",
   "id": "5c77de03-f64b-4781-89b6-785003b65b7c",
   "metadata": {
    "id": "5c77de03-f64b-4781-89b6-785003b65b7c"
   },
   "source": [
    "# Test Scores and Model Diagnostics\n",
    "\n",
    "Legend\n",
    "* Get analysis results using hold-out test set on each model and variable, including SHAP"
   ]
  },
  {
   "cell_type": "code",
   "execution_count": null,
   "id": "2e2d8fdf-5843-4c33-afe0-d17fbb8695a7",
   "metadata": {
    "id": "2e2d8fdf-5843-4c33-afe0-d17fbb8695a7",
    "tags": []
   },
   "outputs": [],
   "source": [
    "#background.to_csv('cleaned_background.csv', index=True)\n",
    "background = pd.read_csv('cleaned_background.csv')\n",
    "\n",
    "background.set_index('challengeID', inplace=True)"
   ]
  },
  {
   "cell_type": "code",
   "execution_count": null,
   "id": "e369e3ab-11f8-4d6b-ad29-c864ab45190c",
   "metadata": {
    "id": "e369e3ab-11f8-4d6b-ad29-c864ab45190c"
   },
   "outputs": [],
   "source": [
    "train = pd.read_csv('FFChallenge_v5/train.csv', sep=',', header=0, index_col=0)\n",
    "test = pd.read_csv('FFChallenge_v5/test.csv', sep=',', header=0, index_col=0)\n",
    "\n"
   ]
  },
  {
   "cell_type": "markdown",
   "id": "f344d42f-658b-44d2-9a6f-09dc0ed6765d",
   "metadata": {
    "id": "f344d42f-658b-44d2-9a6f-09dc0ed6765d"
   },
   "source": [
    "# GPA"
   ]
  },
  {
   "cell_type": "markdown",
   "id": "d315792e-5e63-4ae5-8b71-0195d4f420d8",
   "metadata": {
    "id": "d315792e-5e63-4ae5-8b71-0195d4f420d8"
   },
   "source": [
    "## Elastic"
   ]
  },
  {
   "cell_type": "code",
   "execution_count": null,
   "id": "8726efb6-a150-4cc3-91df-2f8ed0181c35",
   "metadata": {
    "id": "8726efb6-a150-4cc3-91df-2f8ed0181c35"
   },
   "outputs": [],
   "source": [
    "model = joblib.load('models/gpa_el_500.pkl')"
   ]
  },
  {
   "cell_type": "code",
   "execution_count": null,
   "id": "df9cd956-f3c9-48c0-a971-62c5181a5ed2",
   "metadata": {
    "id": "df9cd956-f3c9-48c0-a971-62c5181a5ed2",
    "outputId": "1d10f1fc-d269-4e79-c828-d4a0112a9556"
   },
   "outputs": [
    {
     "data": {
      "text/plain": [
       "{'model__regressor__preprocess__strategy': 'median',\n",
       " 'model__regressor__elastic__l1_ratio': 0.20999999999999996,\n",
       " 'model__regressor__elastic__alpha': 1000}"
      ]
     },
     "metadata": {},
     "output_type": "display_data"
    }
   ],
   "source": [
    "model.best_params_"
   ]
  },
  {
   "cell_type": "code",
   "execution_count": null,
   "id": "42e0dad0-c382-46d3-ad1c-a7fc413de7b3",
   "metadata": {
    "id": "42e0dad0-c382-46d3-ad1c-a7fc413de7b3"
   },
   "outputs": [],
   "source": [
    "variable = 'gpa'\n",
    "X_train = background.loc[train.index]\n",
    "y_train = train[variable].dropna()\n",
    "X_train = X_train.loc[y_train.index.values]"
   ]
  },
  {
   "cell_type": "code",
   "execution_count": null,
   "id": "deaaf59a-e933-4834-8b13-f0ba84be6533",
   "metadata": {
    "id": "deaaf59a-e933-4834-8b13-f0ba84be6533"
   },
   "outputs": [],
   "source": [
    "elastic = ElasticNet(random_state=0, max_iter = 10000, l1_ratio=0.2, alpha=1000.0)\n",
    "\n",
    "pipeline = Pipeline(steps=[('preprocess', SimpleImputer(strategy='median')), ('scaler', 'passthrough'), ('elastic', elastic)])\n",
    "\n",
    "model_pipe = Pipeline([('model', TransformedTargetRegressor(regressor=pipeline, transformer=StandardScaler()))])\n"
   ]
  },
  {
   "cell_type": "code",
   "execution_count": null,
   "id": "53d6f589-a75a-4601-b183-5ff52d086e9f",
   "metadata": {
    "id": "53d6f589-a75a-4601-b183-5ff52d086e9f"
   },
   "outputs": [],
   "source": [
    "elastic_fit = model_pipe.fit(X_train, y_train)"
   ]
  },
  {
   "cell_type": "code",
   "execution_count": null,
   "id": "3902cfd5-e1f4-429d-a525-f7614bb8cbae",
   "metadata": {
    "id": "3902cfd5-e1f4-429d-a525-f7614bb8cbae"
   },
   "outputs": [],
   "source": [
    "X_test = background.loc[test.index]\n",
    "y_test = test[variable].dropna()\n",
    "X_test = X_test.loc[y_test.index.values]"
   ]
  },
  {
   "cell_type": "code",
   "execution_count": null,
   "id": "298a3f1e-14ca-4988-a0f3-fdf437d55cbf",
   "metadata": {
    "id": "298a3f1e-14ca-4988-a0f3-fdf437d55cbf"
   },
   "outputs": [],
   "source": [
    "y_pred = elastic_fit.predict(X_test)"
   ]
  },
  {
   "cell_type": "code",
   "execution_count": null,
   "id": "9406a395-efe0-48cc-9c5d-b0aa3327ca06",
   "metadata": {
    "id": "9406a395-efe0-48cc-9c5d-b0aa3327ca06",
    "outputId": "04583918-76b0-42da-a7c5-cb580af4e8eb"
   },
   "outputs": [
    {
     "data": {
      "text/plain": [
       "0.3857494061289718"
      ]
     },
     "metadata": {},
     "output_type": "display_data"
    }
   ],
   "source": [
    "mean_squared_error(y_test,y_pred)"
   ]
  },
  {
   "cell_type": "code",
   "execution_count": null,
   "id": "733b672d-7429-4061-8dda-b3211b8643d6",
   "metadata": {
    "id": "733b672d-7429-4061-8dda-b3211b8643d6",
    "outputId": "9c603234-8665-40be-d076-e417b7aa2975"
   },
   "outputs": [
    {
     "data": {
      "text/plain": [
       "0.08667317030809574"
      ]
     },
     "metadata": {},
     "output_type": "display_data"
    }
   ],
   "source": [
    "r2_score(y_test,y_pred)"
   ]
  },
  {
   "cell_type": "markdown",
   "id": "7e22f1a0-92a9-44a1-946f-64557373989a",
   "metadata": {
    "id": "7e22f1a0-92a9-44a1-946f-64557373989a"
   },
   "source": [
    "## Random Forest"
   ]
  },
  {
   "cell_type": "code",
   "execution_count": null,
   "id": "83cefe70-f003-4a08-86b3-7a6197ffaeb0",
   "metadata": {
    "id": "83cefe70-f003-4a08-86b3-7a6197ffaeb0"
   },
   "outputs": [],
   "source": [
    "model = joblib.load('models/gpa_rf_rs200_model.pkl')"
   ]
  },
  {
   "cell_type": "code",
   "execution_count": null,
   "id": "2dcdde80-dbe5-4e88-830e-62ddcb4b2097",
   "metadata": {
    "id": "2dcdde80-dbe5-4e88-830e-62ddcb4b2097",
    "outputId": "71e06446-db08-485b-d42e-e12fe73ffc28"
   },
   "outputs": [
    {
     "data": {
      "text/plain": [
       "{'model__regressor__sel__k': 10000,\n",
       " 'model__regressor__randomforest__n_estimators': 253,\n",
       " 'model__regressor__randomforest__min_samples_split': 26,\n",
       " 'model__regressor__randomforest__min_samples_leaf': 5,\n",
       " 'model__regressor__randomforest__max_features': 'auto',\n",
       " 'model__regressor__randomforest__max_depth': 27,\n",
       " 'model__regressor__preprocess__strategy': 'mean'}"
      ]
     },
     "metadata": {},
     "output_type": "display_data"
    }
   ],
   "source": [
    "model.best_params_"
   ]
  },
  {
   "cell_type": "code",
   "execution_count": null,
   "id": "1f7e2012-b7a1-499f-b45a-2880c19d22a2",
   "metadata": {
    "id": "1f7e2012-b7a1-499f-b45a-2880c19d22a2"
   },
   "outputs": [],
   "source": [
    "variable = 'gpa'\n",
    "X_train = background.loc[train.index]\n",
    "y_train = train[variable].dropna()\n",
    "X_train = X_train.loc[y_train.index.values]"
   ]
  },
  {
   "cell_type": "code",
   "execution_count": null,
   "id": "e9597e3f-32d2-46fe-9ab1-1dc83a146928",
   "metadata": {
    "id": "e9597e3f-32d2-46fe-9ab1-1dc83a146928"
   },
   "outputs": [],
   "source": [
    "rf = RandomForestRegressor(random_state=0, \n",
    "                           n_estimators=253, \n",
    "                           min_samples_split=26, \n",
    "                           min_samples_leaf=5, \n",
    "                           max_features='auto', \n",
    "                          max_depth=27)"
   ]
  },
  {
   "cell_type": "code",
   "execution_count": null,
   "id": "cc620be3-c175-48bd-84fc-d151a7573784",
   "metadata": {
    "id": "cc620be3-c175-48bd-84fc-d151a7573784"
   },
   "outputs": [],
   "source": [
    "selector_k_best = SelectKBest(score_func=f_regression, k=10000)\n",
    "pipeline = Pipeline(steps=[('preprocess', SimpleImputer(strategy='mean')), \n",
    "                           ('normalize', StandardScaler()),\n",
    "                           ('sel', selector_k_best),\n",
    "                            ('randomforest', rf)])"
   ]
  },
  {
   "cell_type": "code",
   "execution_count": null,
   "id": "7fbf58fe-fa81-4926-a250-2c78a3fd68c6",
   "metadata": {
    "id": "7fbf58fe-fa81-4926-a250-2c78a3fd68c6",
    "tags": []
   },
   "outputs": [],
   "source": [
    "model_pipe = Pipeline([('model', TransformedTargetRegressor(regressor=pipeline, transformer=StandardScaler()))])"
   ]
  },
  {
   "cell_type": "code",
   "execution_count": null,
   "id": "e3c6424c-4dc0-4e5f-8702-27a9a8ac77b1",
   "metadata": {
    "id": "e3c6424c-4dc0-4e5f-8702-27a9a8ac77b1",
    "outputId": "422fd712-c940-4473-b7d9-0126ddc608e9",
    "tags": []
   },
   "outputs": [
    {
     "name": "stderr",
     "output_type": "stream",
     "text": [
      "/opt/anaconda3/lib/python3.8/site-packages/sklearn/feature_selection/_univariate_selection.py:301: RuntimeWarning: invalid value encountered in true_divide\n",
      "  corr /= X_norms\n"
     ]
    }
   ],
   "source": [
    "random_forest = model_pipe.fit(X_train, y_train)"
   ]
  },
  {
   "cell_type": "code",
   "execution_count": null,
   "id": "aac4742b-da54-4c04-9d7e-458232acb826",
   "metadata": {
    "id": "aac4742b-da54-4c04-9d7e-458232acb826"
   },
   "outputs": [],
   "source": [
    "X_test = background.loc[test.index]\n",
    "y_test = test[variable].dropna()\n",
    "X_test = X_test.loc[y_test.index.values]"
   ]
  },
  {
   "cell_type": "code",
   "execution_count": null,
   "id": "1426f74f-d592-47f5-b5a6-99b7237f214e",
   "metadata": {
    "id": "1426f74f-d592-47f5-b5a6-99b7237f214e"
   },
   "outputs": [],
   "source": [
    "y_pred = random_forest.predict(X_test)"
   ]
  },
  {
   "cell_type": "code",
   "execution_count": null,
   "id": "35507de9-0f6e-4283-b435-b377f14d40f0",
   "metadata": {
    "id": "35507de9-0f6e-4283-b435-b377f14d40f0",
    "outputId": "e3ff42c4-f241-4b1a-a8c6-7c2ad4cb1d3a"
   },
   "outputs": [
    {
     "data": {
      "text/plain": [
       "0.35164833590418565"
      ]
     },
     "metadata": {},
     "output_type": "display_data"
    }
   ],
   "source": [
    "mean_squared_error(y_test,y_pred)"
   ]
  },
  {
   "cell_type": "code",
   "execution_count": null,
   "id": "bc23e013-dd9d-411a-836a-b0f6d37e3354",
   "metadata": {
    "id": "bc23e013-dd9d-411a-836a-b0f6d37e3354",
    "outputId": "17d6dcf6-5cae-4979-b1cc-e15462fce654"
   },
   "outputs": [
    {
     "data": {
      "text/plain": [
       "0.1674132099883947"
      ]
     },
     "metadata": {},
     "output_type": "display_data"
    }
   ],
   "source": [
    "r2_score(y_test,y_pred)"
   ]
  },
  {
   "cell_type": "markdown",
   "id": "ef5d62cd-f4cd-4eaa-958d-b2b26014556a",
   "metadata": {
    "id": "ef5d62cd-f4cd-4eaa-958d-b2b26014556a"
   },
   "source": [
    "## Gradient Boosting"
   ]
  },
  {
   "cell_type": "code",
   "execution_count": null,
   "id": "fab256bb-e8cf-4ab3-a914-0ab7f9ee2833",
   "metadata": {
    "id": "fab256bb-e8cf-4ab3-a914-0ab7f9ee2833"
   },
   "outputs": [],
   "source": [
    "model = joblib.load('models/gpa_xgb_200_.pkl')"
   ]
  },
  {
   "cell_type": "code",
   "execution_count": null,
   "id": "11c6a942-6720-4180-8adb-167841910b59",
   "metadata": {
    "collapsed": true,
    "id": "11c6a942-6720-4180-8adb-167841910b59",
    "jupyter": {
     "outputs_hidden": true
    },
    "outputId": "5770fba1-e790-498a-895d-b40ab5334753",
    "tags": []
   },
   "outputs": [
    {
     "data": {
      "text/plain": [
       "{'model__regressor__xgboost__subsample': 0.5000000000000001,\n",
       " 'model__regressor__xgboost__n_estimators': 160,\n",
       " 'model__regressor__xgboost__min_child_weight': 6,\n",
       " 'model__regressor__xgboost__max_depth': 7,\n",
       " 'model__regressor__xgboost__learning_rate': 0.02100000000000001,\n",
       " 'model__regressor__xgboost__gamma': 0.19,\n",
       " 'model__regressor__xgboost__colsample_bytree': 0.8000000000000003,\n",
       " 'model__regressor__xgboost__colsample_bylevel': 1.0,\n",
       " 'model__regressor__sel__k': 13110,\n",
       " 'model__regressor__normalize': RobustScaler(),\n",
       " 'model__regressor__impute__strategy': 'median'}"
      ]
     },
     "metadata": {},
     "output_type": "display_data"
    }
   ],
   "source": [
    "model.best_params_"
   ]
  },
  {
   "cell_type": "code",
   "execution_count": null,
   "id": "f1420354-f312-43a6-a4d4-cb6f1e1ca0da",
   "metadata": {
    "id": "f1420354-f312-43a6-a4d4-cb6f1e1ca0da"
   },
   "outputs": [],
   "source": [
    "variable = 'gpa'\n",
    "X_train = background.loc[train.index]\n",
    "y_train = train[variable].dropna()\n",
    "X_train = X_train.loc[y_train.index.values]"
   ]
  },
  {
   "cell_type": "code",
   "execution_count": null,
   "id": "ddcf2e14-064d-4911-966d-d00b671e43bc",
   "metadata": {
    "id": "ddcf2e14-064d-4911-966d-d00b671e43bc"
   },
   "outputs": [],
   "source": [
    "selector_k_best = SelectKBest(score_func=f_regression, k = 13110)\n",
    "\n",
    "xg_reg = xgb.XGBRegressor(objective ='reg:squarederror', \n",
    "                          subsample=0.5, \n",
    "                          n_estimators=160, \n",
    "                         min_child_weight=6,\n",
    "                         max_depth=7,\n",
    "                         learning_rate = 0.02,\n",
    "                         gamma = 0.19, \n",
    "                         colsample_bytree = 0.8, \n",
    "                         colsample_bylevel = 1.0)\n",
    "\n",
    "pipeline = Pipeline(steps=[('impute', SimpleImputer(strategy='mean')), ('normalize', RobustScaler()), ('sel', selector_k_best), ('xgboost', xg_reg)])\n",
    "\n",
    "model_pipe = Pipeline([('model', TransformedTargetRegressor(regressor=pipeline, transformer=StandardScaler()))])"
   ]
  },
  {
   "cell_type": "code",
   "execution_count": null,
   "id": "726287c4",
   "metadata": {},
   "outputs": [],
   "source": [
    "boosting = model_pipe.fit(X_train, y_train)"
   ]
  },
  {
   "cell_type": "code",
   "execution_count": null,
   "id": "07fdefd2-8c36-413d-85de-3796f4c7f371",
   "metadata": {
    "id": "07fdefd2-8c36-413d-85de-3796f4c7f371"
   },
   "outputs": [],
   "source": [
    "X_test = background.loc[test.index]\n",
    "y_test = test[variable].dropna()\n",
    "X_test = X_test.loc[y_test.index.values]"
   ]
  },
  {
   "cell_type": "code",
   "execution_count": null,
   "id": "1def9c25-54f7-4912-ac88-d1a87b8c0b3a",
   "metadata": {
    "id": "1def9c25-54f7-4912-ac88-d1a87b8c0b3a"
   },
   "outputs": [],
   "source": [
    "y_pred = boosting.predict(X_test)"
   ]
  },
  {
   "cell_type": "code",
   "execution_count": null,
   "id": "fc0bf2c9-4879-4b2c-b490-369eac66ffff",
   "metadata": {
    "id": "fc0bf2c9-4879-4b2c-b490-369eac66ffff"
   },
   "outputs": [],
   "source": [
    "mean_squared_error(y_test,y_pred)"
   ]
  },
  {
   "cell_type": "code",
   "execution_count": null,
   "id": "75b4854e-92fe-4b1a-89fb-11a90233d5af",
   "metadata": {
    "id": "75b4854e-92fe-4b1a-89fb-11a90233d5af",
    "outputId": "b958d9e1-ba72-457d-cce5-f4ed99d96200"
   },
   "outputs": [
    {
     "data": {
      "text/plain": [
       "0.18412109625667683"
      ]
     },
     "metadata": {},
     "output_type": "display_data"
    }
   ],
   "source": [
    "r2_score(y_test,y_pred)"
   ]
  },
  {
   "cell_type": "markdown",
   "id": "b27bf096-fa93-42ea-a60e-b92735ea786a",
   "metadata": {
    "id": "b27bf096-fa93-42ea-a60e-b92735ea786a"
   },
   "source": [
    "### SHAP"
   ]
  },
  {
   "cell_type": "code",
   "execution_count": null,
   "id": "fdbffaa2-7b3d-4936-b01c-90c1fad38575",
   "metadata": {
    "id": "fdbffaa2-7b3d-4936-b01c-90c1fad38575"
   },
   "outputs": [],
   "source": [
    "import shap"
   ]
  },
  {
   "cell_type": "code",
   "execution_count": null,
   "id": "6486cac9-754c-41a3-a9e7-25c6d1112366",
   "metadata": {
    "id": "6486cac9-754c-41a3-a9e7-25c6d1112366"
   },
   "outputs": [],
   "source": [
    "variable = 'gpa'\n",
    "X_train = background.loc[train.index]\n",
    "y_train = train[variable].dropna()\n",
    "X_train = X_train.loc[y_train.index.values]"
   ]
  },
  {
   "cell_type": "code",
   "execution_count": null,
   "id": "7a5095fb-5cc0-4845-baec-5b4e20bc6486",
   "metadata": {
    "id": "7a5095fb-5cc0-4845-baec-5b4e20bc6486"
   },
   "outputs": [],
   "source": [
    "X_test = background.loc[test.index]\n",
    "y_test = test[variable].dropna()\n",
    "X_test = X_test.loc[y_test.index.values]"
   ]
  },
  {
   "cell_type": "code",
   "execution_count": null,
   "id": "7e758531-41f1-4cbf-904b-16ed45011a92",
   "metadata": {
    "id": "7e758531-41f1-4cbf-904b-16ed45011a92",
    "tags": []
   },
   "outputs": [],
   "source": [
    "#fill NAs \n",
    "means_train = X_train.mean()\n",
    "X_train = X_train.fillna(means_train)\n",
    "X_test = X_test.fillna(means_train)\n",
    "\n",
    "#minmaxscaler on X_values\n",
    "robust = RobustScaler()\n",
    "X_train = robust.fit_transform(X_train)\n",
    "X_test = robust.transform(X_test)\n",
    "\n",
    "xg_reg = xgb.XGBRegressor(objective ='reg:squarederror', \n",
    "                          subsample=0.5, \n",
    "                          n_estimators=160, \n",
    "                         min_child_weight=6,\n",
    "                         max_depth=7,\n",
    "                         learning_rate = 0.02,\n",
    "                         gamma = 0.19, \n",
    "                         colsample_bytree = 0.8, \n",
    "                         colsample_bylevel = 1.0)"
   ]
  },
  {
   "cell_type": "code",
   "execution_count": null,
   "id": "d4ca1f2d-d326-4a7b-883a-e5a5d0cf86f2",
   "metadata": {
    "id": "d4ca1f2d-d326-4a7b-883a-e5a5d0cf86f2"
   },
   "outputs": [],
   "source": [
    "yscale = StandardScaler()\n",
    "y_train_trans = yscale.fit_transform(np.array(y_train).reshape(len(y_train), 1))"
   ]
  },
  {
   "cell_type": "code",
   "execution_count": null,
   "id": "e4fe5113-2cdf-488b-a2e3-8fee73dfead6",
   "metadata": {
    "id": "e4fe5113-2cdf-488b-a2e3-8fee73dfead6",
    "outputId": "973456f7-c296-45e9-82d5-cbf8b2c90687",
    "tags": []
   },
   "outputs": [
    {
     "data": {
      "text/plain": [
       "XGBRegressor(base_score=0.5, booster='gbtree', colsample_bylevel=1.0,\n",
       "             colsample_bynode=1, colsample_bytree=0.8, gamma=0.19, gpu_id=-1,\n",
       "             importance_type='gain', interaction_constraints='',\n",
       "             learning_rate=0.02, max_delta_step=0, max_depth=7,\n",
       "             min_child_weight=6, missing=nan, monotone_constraints='()',\n",
       "             n_estimators=160, n_jobs=8, num_parallel_tree=1, random_state=0,\n",
       "             reg_alpha=0, reg_lambda=1, scale_pos_weight=1, subsample=0.5,\n",
       "             tree_method='exact', validate_parameters=1, verbosity=None)"
      ]
     },
     "metadata": {},
     "output_type": "display_data"
    }
   ],
   "source": [
    "xg_reg.fit(X_train, y_train_trans)"
   ]
  },
  {
   "cell_type": "code",
   "execution_count": null,
   "id": "6ccbf3cd-7e11-4466-88d3-c3bbdb352c76",
   "metadata": {
    "id": "6ccbf3cd-7e11-4466-88d3-c3bbdb352c76"
   },
   "outputs": [],
   "source": [
    "mybooster = xg_reg.get_booster()    "
   ]
  },
  {
   "cell_type": "code",
   "execution_count": null,
   "id": "cda4a84a-d658-4038-9463-6dcd58f460a1",
   "metadata": {
    "id": "cda4a84a-d658-4038-9463-6dcd58f460a1"
   },
   "outputs": [],
   "source": [
    "model_bytearray = mybooster.save_raw()[4:]"
   ]
  },
  {
   "cell_type": "code",
   "execution_count": null,
   "id": "6cb8fba0-ce90-4423-a80b-02abc0317a7f",
   "metadata": {
    "id": "6cb8fba0-ce90-4423-a80b-02abc0317a7f"
   },
   "outputs": [],
   "source": [
    "def myfun(self=None):\n",
    "    return model_bytearray\n",
    "mybooster.save_raw = myfun"
   ]
  },
  {
   "cell_type": "code",
   "execution_count": null,
   "id": "2f88e3ee-77e6-4dc0-a9b4-c1c18c6991ac",
   "metadata": {
    "id": "2f88e3ee-77e6-4dc0-a9b4-c1c18c6991ac",
    "outputId": "644e3a92-69b7-4449-968b-39d5989b8c2d"
   },
   "outputs": [
    {
     "name": "stderr",
     "output_type": "stream",
     "text": [
      "Setting feature_perturbation = \"tree_path_dependent\" because no background data was given.\n"
     ]
    }
   ],
   "source": [
    "shap_ex = shap.TreeExplainer(mybooster)"
   ]
  },
  {
   "cell_type": "code",
   "execution_count": null,
   "id": "3c70a089-44ed-40bf-87a0-adf0856a91fa",
   "metadata": {
    "id": "3c70a089-44ed-40bf-87a0-adf0856a91fa",
    "outputId": "c9cf0512-e064-4aca-9fd5-238d6cdd5338"
   },
   "outputs": [
    {
     "data": {
      "image/png": "[encoded data removed]",
      "text/plain": [
       "<Figure size 576x338.4 with 2 Axes>"
      ]
     },
     "metadata": {},
     "output_type": "display_data"
    }
   ],
   "source": [
    "shap_values = shap_ex.shap_values(X_test)\n",
    "shap.summary_plot(shap_values, X_test, feature_names=list(background), max_display=8)"
   ]
  },
  {
   "cell_type": "markdown",
   "id": "5531cccc-116c-4270-b62d-9b5836e0dfea",
   "metadata": {
    "id": "5531cccc-116c-4270-b62d-9b5836e0dfea"
   },
   "source": [
    "# Grit"
   ]
  },
  {
   "cell_type": "markdown",
   "id": "62930560-ae02-41c0-87c9-d802015bd8e2",
   "metadata": {
    "id": "62930560-ae02-41c0-87c9-d802015bd8e2",
    "tags": []
   },
   "source": [
    "## Elastic"
   ]
  },
  {
   "cell_type": "code",
   "execution_count": null,
   "id": "d0ac5cea-90a0-43c7-a704-2ff581d5e176",
   "metadata": {
    "id": "d0ac5cea-90a0-43c7-a704-2ff581d5e176"
   },
   "outputs": [],
   "source": [
    "model = joblib.load('models/grit_el_200.pkl')"
   ]
  },
  {
   "cell_type": "code",
   "execution_count": null,
   "id": "80034386-ac1c-42e6-9cf9-6c91308b0e91",
   "metadata": {
    "id": "80034386-ac1c-42e6-9cf9-6c91308b0e91",
    "outputId": "adaffbd6-16a2-43ca-d2aa-c8490b069a69"
   },
   "outputs": [
    {
     "data": {
      "text/plain": [
       "{'model__regressor__scaler': RobustScaler(),\n",
       " 'model__regressor__preprocess__strategy': 'median',\n",
       " 'model__regressor__elastic__l1_ratio': 0.9099999999999996,\n",
       " 'model__regressor__elastic__alpha': 1400}"
      ]
     },
     "metadata": {},
     "output_type": "display_data"
    }
   ],
   "source": [
    "model.best_params_"
   ]
  },
  {
   "cell_type": "code",
   "execution_count": null,
   "id": "4c3dcd4c-ae4e-4968-a964-a83acb5d05db",
   "metadata": {
    "id": "4c3dcd4c-ae4e-4968-a964-a83acb5d05db"
   },
   "outputs": [],
   "source": [
    "variable = 'grit'\n",
    "X_train = background.loc[train.index]\n",
    "y_train = train[variable].dropna()\n",
    "X_train = X_train.loc[y_train.index.values]"
   ]
  },
  {
   "cell_type": "code",
   "execution_count": null,
   "id": "16733a18-06f9-4925-8a4c-d590db7b546f",
   "metadata": {
    "id": "16733a18-06f9-4925-8a4c-d590db7b546f"
   },
   "outputs": [],
   "source": [
    "elastic = ElasticNet(random_state=0, max_iter = 10000, l1_ratio=0.9, alpha=1400.0)\n",
    "\n",
    "pipeline = Pipeline(steps=[('preprocess', SimpleImputer(strategy='median')), ('scaler', 'passthrough'), ('elastic', elastic)])\n",
    "\n",
    "model_pipe = Pipeline([('model', TransformedTargetRegressor(regressor=pipeline, transformer=StandardScaler()))])\n"
   ]
  },
  {
   "cell_type": "code",
   "execution_count": null,
   "id": "cbdf50a9-70c7-4e21-ba5b-d45990ee8068",
   "metadata": {
    "id": "cbdf50a9-70c7-4e21-ba5b-d45990ee8068"
   },
   "outputs": [],
   "source": [
    "grit_elastic = model_pipe.fit(X_train, y_train)"
   ]
  },
  {
   "cell_type": "code",
   "execution_count": null,
   "id": "57c13b0a-c3b9-4f38-a094-774d1a5ae605",
   "metadata": {
    "id": "57c13b0a-c3b9-4f38-a094-774d1a5ae605"
   },
   "outputs": [],
   "source": [
    "X_test = background.loc[test.index]\n",
    "y_test = test[variable].dropna()\n",
    "X_test = X_test.loc[y_test.index.values]"
   ]
  },
  {
   "cell_type": "code",
   "execution_count": null,
   "id": "304fd76c-5896-4f8a-a4ff-2af799b5533e",
   "metadata": {
    "id": "304fd76c-5896-4f8a-a4ff-2af799b5533e"
   },
   "outputs": [],
   "source": [
    "grit_pred_elastic = grit_elastic.predict(X_test)"
   ]
  },
  {
   "cell_type": "code",
   "execution_count": null,
   "id": "42529129-bb51-4c5c-bcba-7e65368d04f0",
   "metadata": {
    "id": "42529129-bb51-4c5c-bcba-7e65368d04f0",
    "outputId": "a3172f01-a70e-4cef-bb31-2dd76a3f6ebb"
   },
   "outputs": [
    {
     "data": {
      "text/plain": [
       "0.2515700337325141"
      ]
     },
     "metadata": {},
     "output_type": "display_data"
    }
   ],
   "source": [
    "mean_squared_error(y_test,grit_pred_elastic)"
   ]
  },
  {
   "cell_type": "code",
   "execution_count": null,
   "id": "9e317ca1-945b-43f0-9922-5b03f97eb7c1",
   "metadata": {
    "id": "9e317ca1-945b-43f0-9922-5b03f97eb7c1",
    "outputId": "5fa881c8-572a-4aa4-be02-4e7172fab523"
   },
   "outputs": [
    {
     "data": {
      "text/plain": [
       "0.005350114140940443"
      ]
     },
     "metadata": {},
     "output_type": "display_data"
    }
   ],
   "source": [
    "r2_score(y_test,grit_pred_elastic)"
   ]
  },
  {
   "cell_type": "markdown",
   "id": "de6e3a8d-2490-4eeb-97e4-eae50c902448",
   "metadata": {
    "id": "de6e3a8d-2490-4eeb-97e4-eae50c902448"
   },
   "source": [
    "## Random Forest "
   ]
  },
  {
   "cell_type": "code",
   "execution_count": null,
   "id": "3020b93a-03b2-4144-b7c2-b159501f0bc5",
   "metadata": {
    "id": "3020b93a-03b2-4144-b7c2-b159501f0bc5"
   },
   "outputs": [],
   "source": [
    "model = joblib.load('models/gpa_rf_rs200_model.pkl')"
   ]
  },
  {
   "cell_type": "code",
   "execution_count": null,
   "id": "16863c56-84de-4fd6-8e51-df8227084ace",
   "metadata": {
    "id": "16863c56-84de-4fd6-8e51-df8227084ace",
    "outputId": "9cb20506-275a-4439-f396-277ee86115f0"
   },
   "outputs": [
    {
     "data": {
      "text/plain": [
       "{'model__regressor__scaler': RobustScaler(),\n",
       " 'model__regressor__preprocess__strategy': 'median',\n",
       " 'model__regressor__elastic__l1_ratio': 0.9099999999999996,\n",
       " 'model__regressor__elastic__alpha': 1400}"
      ]
     },
     "metadata": {},
     "output_type": "display_data"
    }
   ],
   "source": [
    "model.best_params_"
   ]
  },
  {
   "cell_type": "code",
   "execution_count": null,
   "id": "725b62e1-0cf2-49b9-8a0a-57ebdbd3d1d3",
   "metadata": {
    "id": "725b62e1-0cf2-49b9-8a0a-57ebdbd3d1d3"
   },
   "outputs": [],
   "source": [
    "variable = 'gpa'\n",
    "X_train = background.loc[train.index]\n",
    "y_train = train[variable].dropna()\n",
    "X_train = X_train.loc[y_train.index.values]"
   ]
  },
  {
   "cell_type": "code",
   "execution_count": null,
   "id": "a69aa81a-0fce-4f6b-be01-4432a024087e",
   "metadata": {
    "id": "a69aa81a-0fce-4f6b-be01-4432a024087e"
   },
   "outputs": [],
   "source": [
    "rf = RandomForestRegressor(random_state=0, \n",
    "                           n_estimators=253, \n",
    "                           min_samples_split=26, \n",
    "                           min_samples_leaf=5, \n",
    "                           max_features='auto', \n",
    "                          max_depth=27)"
   ]
  },
  {
   "cell_type": "code",
   "execution_count": null,
   "id": "b4fc4661-3092-4f07-80ae-c3664cfbe651",
   "metadata": {
    "id": "b4fc4661-3092-4f07-80ae-c3664cfbe651"
   },
   "outputs": [],
   "source": [
    "selector_k_best = SelectKBest(score_func=f_regression, k=10000)\n",
    "pipeline = Pipeline(steps=[('preprocess', SimpleImputer(strategy='mean')), \n",
    "                           ('normalize', StandardScaler()),\n",
    "                           ('sel', selector_k_best),\n",
    "                            ('randomforest', rf)])"
   ]
  },
  {
   "cell_type": "code",
   "execution_count": null,
   "id": "48020773-0aad-4f39-bbc8-14f2dbab3ac7",
   "metadata": {
    "id": "48020773-0aad-4f39-bbc8-14f2dbab3ac7",
    "tags": []
   },
   "outputs": [],
   "source": [
    "model_pipe = Pipeline([('model', TransformedTargetRegressor(regressor=pipeline, transformer=StandardScaler()))])"
   ]
  },
  {
   "cell_type": "code",
   "execution_count": null,
   "id": "14916392-7bd8-4a33-ab90-30db7e34d18f",
   "metadata": {
    "id": "14916392-7bd8-4a33-ab90-30db7e34d18f",
    "outputId": "fda18bf5-cc43-4a19-d4f4-56872e7010d2",
    "tags": []
   },
   "outputs": [
    {
     "name": "stderr",
     "output_type": "stream",
     "text": [
      "/opt/anaconda3/lib/python3.8/site-packages/sklearn/feature_selection/_univariate_selection.py:301: RuntimeWarning: invalid value encountered in true_divide\n",
      "  corr /= X_norms\n"
     ]
    }
   ],
   "source": [
    "random_forest = model_pipe.fit(X_train, y_train)"
   ]
  },
  {
   "cell_type": "code",
   "execution_count": null,
   "id": "ba723413-23cd-425f-8293-6b668fc48fa4",
   "metadata": {
    "id": "ba723413-23cd-425f-8293-6b668fc48fa4"
   },
   "outputs": [],
   "source": [
    "X_test = background.loc[test.index]\n",
    "y_test = test[variable].dropna()\n",
    "X_test = X_test.loc[y_test.index.values]"
   ]
  },
  {
   "cell_type": "code",
   "execution_count": null,
   "id": "4fbdae4d-8cab-4019-8e54-949a6327278b",
   "metadata": {
    "id": "4fbdae4d-8cab-4019-8e54-949a6327278b"
   },
   "outputs": [],
   "source": [
    "y_pred = random_forest.predict(X_test)"
   ]
  },
  {
   "cell_type": "code",
   "execution_count": null,
   "id": "1047127f-ae43-4232-b0aa-517653f9489a",
   "metadata": {
    "id": "1047127f-ae43-4232-b0aa-517653f9489a",
    "outputId": "4ae01026-c647-4a27-8c26-fa1d135fe6e2"
   },
   "outputs": [
    {
     "data": {
      "text/plain": [
       "0.35164833590418565"
      ]
     },
     "metadata": {},
     "output_type": "display_data"
    }
   ],
   "source": [
    "mean_squared_error(y_test,y_pred)"
   ]
  },
  {
   "cell_type": "code",
   "execution_count": null,
   "id": "764cb594-4922-4917-9f5e-974b8d25cfef",
   "metadata": {
    "id": "764cb594-4922-4917-9f5e-974b8d25cfef",
    "outputId": "224a549f-873d-477b-cf3f-1c8059182016"
   },
   "outputs": [
    {
     "data": {
      "text/plain": [
       "0.1674132099883947"
      ]
     },
     "metadata": {},
     "output_type": "display_data"
    }
   ],
   "source": [
    "r2_score(y_test, y_pred)"
   ]
  },
  {
   "cell_type": "markdown",
   "id": "40540711-5481-45b0-aa5c-e6d98e6a5e25",
   "metadata": {
    "id": "40540711-5481-45b0-aa5c-e6d98e6a5e25"
   },
   "source": [
    "## Gradient Boosting"
   ]
  },
  {
   "cell_type": "code",
   "execution_count": null,
   "id": "0a9a11ca-ab1e-4d46-95de-aab8b1cfb533",
   "metadata": {
    "id": "0a9a11ca-ab1e-4d46-95de-aab8b1cfb533"
   },
   "outputs": [],
   "source": [
    "model = joblib.load('models/grit_xgb_200_.pkl')"
   ]
  },
  {
   "cell_type": "code",
   "execution_count": null,
   "id": "5803c60c-774a-442f-a269-63a94f11e112",
   "metadata": {
    "id": "5803c60c-774a-442f-a269-63a94f11e112",
    "outputId": "5567479f-0064-4bf9-8ce2-22e59ec0c0e9",
    "tags": []
   },
   "outputs": [
    {
     "data": {
      "text/plain": [
       "{'model__regressor__xgboost__subsample': 0.7000000000000002,\n",
       " 'model__regressor__xgboost__n_estimators': 130,\n",
       " 'model__regressor__xgboost__min_child_weight': 2,\n",
       " 'model__regressor__xgboost__max_depth': 6,\n",
       " 'model__regressor__xgboost__learning_rate': 0.01850000000000001,\n",
       " 'model__regressor__xgboost__gamma': 1.6600000000000001,\n",
       " 'model__regressor__xgboost__colsample_bytree': 0.3,\n",
       " 'model__regressor__xgboost__colsample_bylevel': 1.0,\n",
       " 'model__regressor__sel__k': 910,\n",
       " 'model__regressor__normalize': RobustScaler(),\n",
       " 'model__regressor__impute__strategy': 'median'}"
      ]
     },
     "metadata": {},
     "output_type": "display_data"
    }
   ],
   "source": [
    "model.best_params_"
   ]
  },
  {
   "cell_type": "code",
   "execution_count": null,
   "id": "4d710ddb-cd80-4717-8c98-786e672172a0",
   "metadata": {
    "id": "4d710ddb-cd80-4717-8c98-786e672172a0"
   },
   "outputs": [],
   "source": [
    "variable = 'grit'\n",
    "X_train = background.loc[train.index]\n",
    "y_train = train[variable].dropna()\n",
    "X_train = X_train.loc[y_train.index.values]"
   ]
  },
  {
   "cell_type": "code",
   "execution_count": null,
   "id": "d395713c-d1f2-45d1-92bb-1657c960db5e",
   "metadata": {
    "id": "d395713c-d1f2-45d1-92bb-1657c960db5e"
   },
   "outputs": [],
   "source": [
    "selector_k_best = SelectKBest(score_func=f_regression, k = 5000)\n",
    "\n",
    "xg_reg = xgb.XGBRegressor(objective ='reg:squarederror', \n",
    "                          subsample=0.7, \n",
    "                          n_estimators=130, \n",
    "                         min_child_weight=2,\n",
    "                         max_depth=6,\n",
    "                         learning_rate = 0.018,\n",
    "                         gamma = 1.66, \n",
    "                         colsample_bytree = 0.3, \n",
    "                         colsample_bylevel = 1.0)\n",
    "\n",
    "pipeline = Pipeline(steps=[('impute', SimpleImputer(strategy='median')), ('normalize', RobustScaler()), ('sel', selector_k_best), ('xgboost', xg_reg)])\n",
    "\n",
    "model_pipe = Pipeline([('model', TransformedTargetRegressor(regressor=pipeline, transformer=StandardScaler()))])"
   ]
  },
  {
   "cell_type": "code",
   "execution_count": null,
   "id": "fe8ca4c6-3321-43f1-a4eb-5229d42bff88",
   "metadata": {
    "id": "fe8ca4c6-3321-43f1-a4eb-5229d42bff88",
    "outputId": "107f35d7-fd7e-42b0-d2bc-88ef4e1ac7dd",
    "tags": []
   },
   "outputs": [
    {
     "name": "stderr",
     "output_type": "stream",
     "text": [
      "/opt/anaconda3/lib/python3.8/site-packages/sklearn/feature_selection/_univariate_selection.py:301: RuntimeWarning: invalid value encountered in true_divide\n",
      "  corr /= X_norms\n"
     ]
    }
   ],
   "source": [
    "boosting = model_pipe.fit(X_train, y_train)"
   ]
  },
  {
   "cell_type": "code",
   "execution_count": null,
   "id": "9f14302b-72e8-450a-9026-673a4ec961a3",
   "metadata": {
    "id": "9f14302b-72e8-450a-9026-673a4ec961a3"
   },
   "outputs": [],
   "source": [
    "X_test = background.loc[test.index]\n",
    "y_test = test[variable].dropna()\n",
    "X_test = X_test.loc[y_test.index.values]"
   ]
  },
  {
   "cell_type": "code",
   "execution_count": null,
   "id": "80e64cd4-829b-4731-ace9-09365d00b5ac",
   "metadata": {
    "id": "80e64cd4-829b-4731-ace9-09365d00b5ac"
   },
   "outputs": [],
   "source": [
    "grit_boosing_pred = boosting.predict(X_test)"
   ]
  },
  {
   "cell_type": "code",
   "execution_count": null,
   "id": "43381aca-dd09-4da5-b556-4d685529062a",
   "metadata": {
    "id": "43381aca-dd09-4da5-b556-4d685529062a",
    "outputId": "93075f15-ab6a-4669-c6ab-487828ce2999"
   },
   "outputs": [
    {
     "data": {
      "text/plain": [
       "0.2381845612902674"
      ]
     },
     "metadata": {},
     "output_type": "display_data"
    }
   ],
   "source": [
    "mean_squared_error(y_test,grit_boosing_pred)"
   ]
  },
  {
   "cell_type": "code",
   "execution_count": null,
   "id": "08414e08-2abd-4aec-a737-b97600d7916d",
   "metadata": {
    "id": "08414e08-2abd-4aec-a737-b97600d7916d",
    "outputId": "effc6ba2-0eb5-4c9c-9d81-012fecb4e9f1"
   },
   "outputs": [
    {
     "data": {
      "text/plain": [
       "0.058273184664540234"
      ]
     },
     "metadata": {},
     "output_type": "display_data"
    }
   ],
   "source": [
    "r2_score(y_test, grit_boosing_pred)"
   ]
  },
  {
   "cell_type": "code",
   "execution_count": null,
   "id": "ba8cd827-0966-4064-b8a5-4f55f98274df",
   "metadata": {
    "id": "ba8cd827-0966-4064-b8a5-4f55f98274df"
   },
   "outputs": [],
   "source": [
    "import shap"
   ]
  },
  {
   "cell_type": "code",
   "execution_count": null,
   "id": "dbb98808-0e83-40a1-92fb-ed90bacc4c80",
   "metadata": {
    "id": "dbb98808-0e83-40a1-92fb-ed90bacc4c80",
    "tags": []
   },
   "outputs": [],
   "source": [
    "variable = 'grit'\n",
    "X_train = background.loc[train.index]\n",
    "y_train = train[variable].dropna()\n",
    "X_train = X_train.loc[y_train.index.values]"
   ]
  },
  {
   "cell_type": "code",
   "execution_count": null,
   "id": "2a2bf1b2-b9fe-4f92-8ad4-67daed2f77e2",
   "metadata": {
    "id": "2a2bf1b2-b9fe-4f92-8ad4-67daed2f77e2"
   },
   "outputs": [],
   "source": [
    "X_test = background.loc[test.index]\n",
    "y_test = test[variable].dropna()\n",
    "X_test = X_test.loc[y_test.index.values]"
   ]
  },
  {
   "cell_type": "code",
   "execution_count": null,
   "id": "9f5f0458-3d17-4d15-bc64-32646fd5e0e0",
   "metadata": {
    "id": "9f5f0458-3d17-4d15-bc64-32646fd5e0e0",
    "tags": []
   },
   "outputs": [],
   "source": [
    "#fill NAs \n",
    "means_train = X_train.mean()\n",
    "X_train = X_train.fillna(means_train)\n",
    "X_test = X_test.fillna(means_train)\n",
    "\n",
    "\n",
    "#minmaxscaler on X_values\n",
    "robust = RobustScaler()\n",
    "X_train = robust.fit_transform(X_train)\n",
    "X_test = robust.transform(X_test)\n",
    "\n",
    "xg_reg = xgb.XGBRegressor(objective ='reg:squarederror', \n",
    "                          subsample=0.7, \n",
    "                          n_estimators=130, \n",
    "                         min_child_weight=2,\n",
    "                         max_depth=6,\n",
    "                         learning_rate = 0.018,\n",
    "                         gamma = 1.66, \n",
    "                         colsample_bytree = 0.3, \n",
    "                         colsample_bylevel = 1.0)"
   ]
  },
  {
   "cell_type": "code",
   "execution_count": null,
   "id": "f46f086b-5fce-471e-a846-9070ddf63d8d",
   "metadata": {
    "id": "f46f086b-5fce-471e-a846-9070ddf63d8d"
   },
   "outputs": [],
   "source": [
    "yscale = StandardScaler()\n",
    "y_train_trans = yscale.fit_transform(np.array(y_train).reshape(len(y_train), 1))"
   ]
  },
  {
   "cell_type": "code",
   "execution_count": null,
   "id": "a00f7b59-1c15-4eaf-a370-cf1a01f74eaf",
   "metadata": {
    "id": "a00f7b59-1c15-4eaf-a370-cf1a01f74eaf",
    "outputId": "96f42fee-9e2c-441c-862c-c47ca013cad5",
    "tags": []
   },
   "outputs": [
    {
     "data": {
      "text/plain": [
       "XGBRegressor(base_score=0.5, booster='gbtree', colsample_bylevel=1.0,\n",
       "             colsample_bynode=1, colsample_bytree=0.3, gamma=1.66, gpu_id=-1,\n",
       "             importance_type='gain', interaction_constraints='',\n",
       "             learning_rate=0.018, max_delta_step=0, max_depth=6,\n",
       "             min_child_weight=2, missing=nan, monotone_constraints='()',\n",
       "             n_estimators=130, n_jobs=8, num_parallel_tree=1, random_state=0,\n",
       "             reg_alpha=0, reg_lambda=1, scale_pos_weight=1, subsample=0.7,\n",
       "             tree_method='exact', validate_parameters=1, verbosity=None)"
      ]
     },
     "metadata": {},
     "output_type": "display_data"
    }
   ],
   "source": [
    "xg_reg.fit(X_train, y_train_trans)"
   ]
  },
  {
   "cell_type": "code",
   "execution_count": null,
   "id": "40466d72-a955-4bce-88c0-35186da54eb1",
   "metadata": {
    "id": "40466d72-a955-4bce-88c0-35186da54eb1"
   },
   "outputs": [],
   "source": [
    "mybooster = xg_reg.get_booster()    "
   ]
  },
  {
   "cell_type": "code",
   "execution_count": null,
   "id": "20e4a98d-f76d-4063-947c-6497f1610c9f",
   "metadata": {
    "id": "20e4a98d-f76d-4063-947c-6497f1610c9f"
   },
   "outputs": [],
   "source": [
    "model_bytearray = mybooster.save_raw()[4:]"
   ]
  },
  {
   "cell_type": "code",
   "execution_count": null,
   "id": "1f69fa19-d9c2-4bad-839a-d112ee4e120b",
   "metadata": {
    "id": "1f69fa19-d9c2-4bad-839a-d112ee4e120b"
   },
   "outputs": [],
   "source": [
    "def myfun(self=None):\n",
    "    return model_bytearray\n",
    "mybooster.save_raw = myfun"
   ]
  },
  {
   "cell_type": "code",
   "execution_count": null,
   "id": "8d63acc6-b8ec-4d64-a3aa-c703d9a21dff",
   "metadata": {
    "id": "8d63acc6-b8ec-4d64-a3aa-c703d9a21dff",
    "outputId": "359bbd94-33c1-4bae-8209-4965a8252cb6"
   },
   "outputs": [
    {
     "name": "stderr",
     "output_type": "stream",
     "text": [
      "Setting feature_perturbation = \"tree_path_dependent\" because no background data was given.\n"
     ]
    }
   ],
   "source": [
    "shap_ex = shap.TreeExplainer(mybooster)"
   ]
  },
  {
   "cell_type": "code",
   "execution_count": null,
   "id": "7c2e5119-300d-4d8f-81ed-1e77ec87c8fd",
   "metadata": {
    "id": "7c2e5119-300d-4d8f-81ed-1e77ec87c8fd",
    "outputId": "f0f65bc7-0aae-475f-8d57-35d4dcf8d90d"
   },
   "outputs": [
    {
     "data": {
      "image/png": "[encoded data removed]",
      "text/plain": [
       "<Figure size 576x338.4 with 2 Axes>"
      ]
     },
     "metadata": {},
     "output_type": "display_data"
    }
   ],
   "source": [
    "shap_values = shap_ex.shap_values(X_test)\n",
    "shap.summary_plot(shap_values, X_test, feature_names=list(background), max_display=8, )"
   ]
  },
  {
   "cell_type": "markdown",
   "id": "797eada4-87e1-4bf8-82c3-fca70f57f47f",
   "metadata": {
    "id": "797eada4-87e1-4bf8-82c3-fca70f57f47f"
   },
   "source": [
    "# Material Hardship"
   ]
  },
  {
   "cell_type": "markdown",
   "id": "ea45f96b-9bc0-4860-a3a2-c7963fdf7ed6",
   "metadata": {
    "id": "ea45f96b-9bc0-4860-a3a2-c7963fdf7ed6"
   },
   "source": [
    "## Elastic"
   ]
  },
  {
   "cell_type": "code",
   "execution_count": null,
   "id": "9201d566-a2bb-4ada-984f-6de9dee89ee1",
   "metadata": {
    "id": "9201d566-a2bb-4ada-984f-6de9dee89ee1"
   },
   "outputs": [],
   "source": [
    "model = joblib.load('models/material_el_not_quant_200.pkl')"
   ]
  },
  {
   "cell_type": "code",
   "execution_count": null,
   "id": "f02bb0f3-cc8a-4dc6-898a-247d03bb1efb",
   "metadata": {
    "id": "f02bb0f3-cc8a-4dc6-898a-247d03bb1efb",
    "outputId": "a430098f-6ed3-4017-9a1d-985c9fd5b0cf"
   },
   "outputs": [
    {
     "data": {
      "text/plain": [
       "{'model__regressor__scaler': RobustScaler(),\n",
       " 'model__regressor__preprocess__strategy': 'median',\n",
       " 'model__regressor__elastic__l1_ratio': 0.7499999999999997,\n",
       " 'model__regressor__elastic__alpha': 100}"
      ]
     },
     "metadata": {},
     "output_type": "display_data"
    }
   ],
   "source": [
    "model.best_params_"
   ]
  },
  {
   "cell_type": "code",
   "execution_count": null,
   "id": "34cfca5b-a7eb-40da-ad8a-3e60f386656f",
   "metadata": {
    "id": "34cfca5b-a7eb-40da-ad8a-3e60f386656f"
   },
   "outputs": [],
   "source": [
    "variable = 'materialHardship'\n",
    "X_train = background.loc[train.index]\n",
    "y_train = train[variable].dropna()\n",
    "X_train = X_train.loc[y_train.index.values]"
   ]
  },
  {
   "cell_type": "code",
   "execution_count": null,
   "id": "549f5c2a-b768-4ecd-9768-8054b9fe4dd9",
   "metadata": {
    "id": "549f5c2a-b768-4ecd-9768-8054b9fe4dd9"
   },
   "outputs": [],
   "source": [
    "elastic = ElasticNet(random_state=0, max_iter = 10000, l1_ratio=0.75, alpha=100.0)\n",
    "\n",
    "pipeline = Pipeline(steps=[('preprocess', SimpleImputer(strategy='median')), ('scaler', RobustScaler()), ('elastic', elastic)])\n",
    "\n",
    "model_pipe = Pipeline([('model', TransformedTargetRegressor(regressor=pipeline, transformer=StandardScaler()))])\n"
   ]
  },
  {
   "cell_type": "code",
   "execution_count": null,
   "id": "1f6f3168-cb74-4736-9322-2327e6d9233a",
   "metadata": {
    "id": "1f6f3168-cb74-4736-9322-2327e6d9233a"
   },
   "outputs": [],
   "source": [
    "material_elastic = model_pipe.fit(X_train, y_train)"
   ]
  },
  {
   "cell_type": "code",
   "execution_count": null,
   "id": "bf15f88c-2fe7-405b-a601-366fa4f35755",
   "metadata": {
    "id": "bf15f88c-2fe7-405b-a601-366fa4f35755"
   },
   "outputs": [],
   "source": [
    "X_test = background.loc[test.index]\n",
    "y_test = test[variable].dropna()\n",
    "X_test = X_test.loc[y_test.index.values]"
   ]
  },
  {
   "cell_type": "code",
   "execution_count": null,
   "id": "9411c98d-7816-4401-b939-c1039c3e97d8",
   "metadata": {
    "id": "9411c98d-7816-4401-b939-c1039c3e97d8"
   },
   "outputs": [],
   "source": [
    "material_pred_elastic = material_elastic.predict(X_test)"
   ]
  },
  {
   "cell_type": "code",
   "execution_count": null,
   "id": "28751f0e-27a7-42cb-9e04-dcbf02169c01",
   "metadata": {
    "id": "28751f0e-27a7-42cb-9e04-dcbf02169c01",
    "outputId": "1b513560-2fe4-4772-dff6-085684b19e53"
   },
   "outputs": [
    {
     "data": {
      "text/plain": [
       "0.023973118505334984"
      ]
     },
     "metadata": {},
     "output_type": "display_data"
    }
   ],
   "source": [
    "mean_squared_error(y_test,material_pred_elastic)"
   ]
  },
  {
   "cell_type": "code",
   "execution_count": null,
   "id": "26cb84cf-0e01-4daa-b4de-8e98dbc50f21",
   "metadata": {
    "id": "26cb84cf-0e01-4daa-b4de-8e98dbc50f21",
    "outputId": "e3230e61-8b82-48f1-d752-3631d9b81b39"
   },
   "outputs": [
    {
     "data": {
      "text/plain": [
       "0.03441371908897606"
      ]
     },
     "metadata": {},
     "output_type": "display_data"
    }
   ],
   "source": [
    "r2_score(y_test,material_pred_elastic)"
   ]
  },
  {
   "cell_type": "markdown",
   "id": "f8a0b0ee-fa5a-4585-8a87-967091a0523a",
   "metadata": {
    "id": "f8a0b0ee-fa5a-4585-8a87-967091a0523a"
   },
   "source": [
    "## Random Forest"
   ]
  },
  {
   "cell_type": "code",
   "execution_count": null,
   "id": "ef840e27-02d9-44d0-a1d9-d2b25170524a",
   "metadata": {
    "id": "ef840e27-02d9-44d0-a1d9-d2b25170524a"
   },
   "outputs": [],
   "source": [
    "model = joblib.load('models/material_rf_200.pkl')"
   ]
  },
  {
   "cell_type": "code",
   "execution_count": null,
   "id": "bc75daf3-bb2a-4300-af4a-8b6d1c875356",
   "metadata": {
    "id": "bc75daf3-bb2a-4300-af4a-8b6d1c875356",
    "outputId": "5b2410e1-6f83-4aa9-8876-40a7f35a266d"
   },
   "outputs": [
    {
     "data": {
      "text/plain": [
       "{'model__regressor__sel__k': 5000,\n",
       " 'model__regressor__randomforest__n_estimators': 238,\n",
       " 'model__regressor__randomforest__min_samples_split': 8,\n",
       " 'model__regressor__randomforest__min_samples_leaf': 8,\n",
       " 'model__regressor__randomforest__max_features': 'auto',\n",
       " 'model__regressor__randomforest__max_depth': 16,\n",
       " 'model__regressor__preprocess__strategy': 'median',\n",
       " 'model__regressor__normalize': StandardScaler()}"
      ]
     },
     "metadata": {},
     "output_type": "display_data"
    }
   ],
   "source": [
    "model.best_params_"
   ]
  },
  {
   "cell_type": "code",
   "execution_count": null,
   "id": "e0bc8ccb-6c70-4466-8cee-3744f816f019",
   "metadata": {
    "id": "e0bc8ccb-6c70-4466-8cee-3744f816f019"
   },
   "outputs": [],
   "source": [
    "variable = 'materialHardship'\n",
    "X_train = background.loc[train.index]\n",
    "y_train = train[variable].dropna()\n",
    "X_train = X_train.loc[y_train.index.values]"
   ]
  },
  {
   "cell_type": "code",
   "execution_count": null,
   "id": "936d1c55-d7e3-4005-b3fe-a478b43139a8",
   "metadata": {
    "id": "936d1c55-d7e3-4005-b3fe-a478b43139a8"
   },
   "outputs": [],
   "source": [
    "rf = RandomForestRegressor(random_state=0, \n",
    "                           n_estimators=238, \n",
    "                           min_samples_split=8, \n",
    "                           min_samples_leaf=8, \n",
    "                           max_features='auto', \n",
    "                          max_depth=16)"
   ]
  },
  {
   "cell_type": "code",
   "execution_count": null,
   "id": "4fab80da-28f9-423f-ab8e-1ab1f54bcb34",
   "metadata": {
    "id": "4fab80da-28f9-423f-ab8e-1ab1f54bcb34"
   },
   "outputs": [],
   "source": [
    "selector_k_best = SelectKBest(score_func=f_regression, k=5000)\n",
    "pipeline = Pipeline(steps=[('preprocess', SimpleImputer(strategy='mean')), \n",
    "                           ('normalize', StandardScaler()),\n",
    "                           ('sel', selector_k_best),\n",
    "                            ('randomforest', rf)])"
   ]
  },
  {
   "cell_type": "code",
   "execution_count": null,
   "id": "9ece0f71-2a3b-455b-9ed3-a4665741d0d1",
   "metadata": {
    "id": "9ece0f71-2a3b-455b-9ed3-a4665741d0d1",
    "tags": []
   },
   "outputs": [],
   "source": [
    "model_pipe = Pipeline([('model', TransformedTargetRegressor(regressor=pipeline, transformer=StandardScaler()))])"
   ]
  },
  {
   "cell_type": "code",
   "execution_count": null,
   "id": "bda75cbf-300e-47dd-a299-a79a4b0190ed",
   "metadata": {
    "id": "bda75cbf-300e-47dd-a299-a79a4b0190ed",
    "outputId": "422b434b-9fe8-4790-d71e-a35b63030759",
    "tags": []
   },
   "outputs": [
    {
     "name": "stderr",
     "output_type": "stream",
     "text": [
      "/opt/anaconda3/lib/python3.8/site-packages/sklearn/feature_selection/_univariate_selection.py:301: RuntimeWarning: invalid value encountered in true_divide\n",
      "  corr /= X_norms\n"
     ]
    }
   ],
   "source": [
    "material_random_forest = model_pipe.fit(X_train, y_train)"
   ]
  },
  {
   "cell_type": "code",
   "execution_count": null,
   "id": "84cc89b0-1c63-4bf6-b5d2-bb728305e02f",
   "metadata": {
    "id": "84cc89b0-1c63-4bf6-b5d2-bb728305e02f"
   },
   "outputs": [],
   "source": [
    "X_test = background.loc[test.index]\n",
    "y_test = test[variable].dropna()\n",
    "X_test = X_test.loc[y_test.index.values]"
   ]
  },
  {
   "cell_type": "code",
   "execution_count": null,
   "id": "6834c997-c36b-4222-bb44-e56f1909c941",
   "metadata": {
    "id": "6834c997-c36b-4222-bb44-e56f1909c941"
   },
   "outputs": [],
   "source": [
    "material_rf_pred = material_random_forest.predict(X_test)"
   ]
  },
  {
   "cell_type": "code",
   "execution_count": null,
   "id": "07aa7478-9b79-45e2-a878-c61b329346ae",
   "metadata": {
    "id": "07aa7478-9b79-45e2-a878-c61b329346ae",
    "outputId": "11bc4a47-a8b0-4eb3-9718-2abe2807e939"
   },
   "outputs": [
    {
     "data": {
      "text/plain": [
       "0.019792665783870386"
      ]
     },
     "metadata": {},
     "output_type": "display_data"
    }
   ],
   "source": [
    "mean_squared_error(y_test,material_rf_pred)"
   ]
  },
  {
   "cell_type": "code",
   "execution_count": null,
   "id": "a10d20f4-2896-4875-949a-bf56794c7a2b",
   "metadata": {
    "id": "a10d20f4-2896-4875-949a-bf56794c7a2b",
    "outputId": "4aa58441-22cb-45da-bb2a-4bd969fbd73b"
   },
   "outputs": [
    {
     "data": {
      "text/plain": [
       "0.20279347305986906"
      ]
     },
     "metadata": {},
     "output_type": "display_data"
    }
   ],
   "source": [
    "r2_score(y_test,material_rf_pred)"
   ]
  },
  {
   "cell_type": "markdown",
   "id": "f852020c-fa2f-41f9-b213-a99672367fd0",
   "metadata": {
    "id": "f852020c-fa2f-41f9-b213-a99672367fd0"
   },
   "source": [
    "### SHAP"
   ]
  },
  {
   "cell_type": "code",
   "execution_count": null,
   "id": "8beef027-6507-43e0-8304-787c316a67db",
   "metadata": {
    "id": "8beef027-6507-43e0-8304-787c316a67db"
   },
   "outputs": [],
   "source": [
    "import shap"
   ]
  },
  {
   "cell_type": "code",
   "execution_count": null,
   "id": "4507a2cd-907d-48b0-8793-85eb2784f3a3",
   "metadata": {
    "id": "4507a2cd-907d-48b0-8793-85eb2784f3a3",
    "tags": []
   },
   "outputs": [],
   "source": [
    "variable = 'materialHardship'\n",
    "X_train = background.loc[train.index]\n",
    "y_train = train[variable].dropna()\n",
    "X_train = X_train.loc[y_train.index.values]"
   ]
  },
  {
   "cell_type": "code",
   "execution_count": null,
   "id": "21b79406-7442-43cd-8f81-a90189e69dc0",
   "metadata": {
    "id": "21b79406-7442-43cd-8f81-a90189e69dc0"
   },
   "outputs": [],
   "source": [
    "X_test = background.loc[test.index]\n",
    "y_test = test[variable].dropna()\n",
    "X_test = X_test.loc[y_test.index.values]"
   ]
  },
  {
   "cell_type": "code",
   "execution_count": null,
   "id": "deb5f5f5-4d5e-471b-bfb7-1222cb6e0d08",
   "metadata": {
    "id": "deb5f5f5-4d5e-471b-bfb7-1222cb6e0d08",
    "tags": []
   },
   "outputs": [],
   "source": [
    "#fill NAs \n",
    "means_train = X_train.mean()\n",
    "X_train = X_train.fillna(means_train)\n",
    "X_test = X_test.fillna(means_train)\n",
    "\n",
    "\n",
    "#minmaxscaler on X_values\n",
    "robust = RobustScaler()\n",
    "X_train = robust.fit_transform(X_train)\n",
    "X_test = robust.transform(X_test)\n",
    "\n",
    "rf = RandomForestRegressor(random_state=0, \n",
    "                           n_estimators=238, \n",
    "                           min_samples_split=8, \n",
    "                           min_samples_leaf=8, \n",
    "                           max_features='auto', \n",
    "                          max_depth=16)"
   ]
  },
  {
   "cell_type": "code",
   "execution_count": null,
   "id": "87e8065d-6d9b-43e8-90bc-c46564f33669",
   "metadata": {
    "id": "87e8065d-6d9b-43e8-90bc-c46564f33669"
   },
   "outputs": [],
   "source": [
    "yscale = StandardScaler()\n",
    "y_train_trans = yscale.fit_transform(np.array(y_train).reshape(len(y_train), 1))"
   ]
  },
  {
   "cell_type": "code",
   "execution_count": null,
   "id": "45fba157-c5f4-497c-a8ca-ee59f346fabc",
   "metadata": {
    "id": "45fba157-c5f4-497c-a8ca-ee59f346fabc",
    "outputId": "025cdb4c-92eb-4115-d71a-74e1d1a90f38",
    "tags": []
   },
   "outputs": [
    {
     "name": "stderr",
     "output_type": "stream",
     "text": [
      "A column-vector y was passed when a 1d array was expected. Please change the shape of y to (n_samples,), for example using ravel().\n"
     ]
    },
    {
     "data": {
      "text/plain": [
       "RandomForestRegressor(max_depth=16, min_samples_leaf=8, min_samples_split=8,\n",
       "                      n_estimators=238, random_state=0)"
      ]
     },
     "metadata": {},
     "output_type": "display_data"
    }
   ],
   "source": [
    "rf.fit(X_train, y_train_trans)"
   ]
  },
  {
   "cell_type": "code",
   "execution_count": null,
   "id": "df498625-2e47-44cb-bd8e-6344e94653be",
   "metadata": {
    "id": "df498625-2e47-44cb-bd8e-6344e94653be",
    "outputId": "4281d879-e07f-46fa-eb3a-df7a4ed2cbf0"
   },
   "outputs": [
    {
     "name": "stderr",
     "output_type": "stream",
     "text": [
      "Setting feature_perturbation = \"tree_path_dependent\" because no background data was given.\n"
     ]
    }
   ],
   "source": [
    "shap_ex = shap.TreeExplainer(rf)"
   ]
  },
  {
   "cell_type": "code",
   "execution_count": null,
   "id": "0bf3ab3e-ba5f-4db7-bc5a-4c57f566fb3f",
   "metadata": {
    "id": "0bf3ab3e-ba5f-4db7-bc5a-4c57f566fb3f",
    "outputId": "90fe2087-0e68-4700-d8be-043839c8547e"
   },
   "outputs": [
    {
     "data": {
      "image/png": "[encoded data removed]",
      "text/plain": [
       "<Figure size 576x338.4 with 2 Axes>"
      ]
     },
     "metadata": {},
     "output_type": "display_data"
    }
   ],
   "source": [
    "shap_values = shap_ex.shap_values(X_test)\n",
    "shap.summary_plot(shap_values, X_test, feature_names=list(background), max_display=8)"
   ]
  },
  {
   "cell_type": "markdown",
   "id": "c2b46e58-3465-4072-856d-f7a04f9298b1",
   "metadata": {
    "id": "c2b46e58-3465-4072-856d-f7a04f9298b1"
   },
   "source": [
    "## Gradient Boosting"
   ]
  },
  {
   "cell_type": "code",
   "execution_count": null,
   "id": "c81c3932-02b6-4c0f-9ced-e5e223e3e218",
   "metadata": {
    "id": "c81c3932-02b6-4c0f-9ced-e5e223e3e218"
   },
   "outputs": [],
   "source": [
    "model = joblib.load('models/material_xgb_200_.pkl')"
   ]
  },
  {
   "cell_type": "code",
   "execution_count": null,
   "id": "09259b37-ffb0-4b32-bc70-c3b2b8a82c91",
   "metadata": {
    "id": "09259b37-ffb0-4b32-bc70-c3b2b8a82c91",
    "outputId": "97e0eab0-efc0-41a5-a2f2-af811026bfc9",
    "tags": []
   },
   "outputs": [
    {
     "data": {
      "text/plain": [
       "{'model__regressor__xgboost__subsample': 0.6000000000000001,\n",
       " 'model__regressor__xgboost__n_estimators': 180,\n",
       " 'model__regressor__xgboost__min_child_weight': 7,\n",
       " 'model__regressor__xgboost__max_depth': 10,\n",
       " 'model__regressor__xgboost__learning_rate': 0.05250000000000004,\n",
       " 'model__regressor__xgboost__gamma': 1.46,\n",
       " 'model__regressor__xgboost__colsample_bytree': 0.6000000000000001,\n",
       " 'model__regressor__xgboost__colsample_bylevel': 1.0,\n",
       " 'model__regressor__sel__k': 5810,\n",
       " 'model__regressor__normalize': RobustScaler(),\n",
       " 'model__regressor__impute__strategy': 'mean'}"
      ]
     },
     "metadata": {},
     "output_type": "display_data"
    }
   ],
   "source": [
    "model.best_params_"
   ]
  },
  {
   "cell_type": "code",
   "execution_count": null,
   "id": "d781d1e4-b4fa-433f-8677-bf59ce08461e",
   "metadata": {
    "id": "d781d1e4-b4fa-433f-8677-bf59ce08461e"
   },
   "outputs": [],
   "source": [
    "variable = 'materialHardship'\n",
    "X_train = background.loc[train.index]\n",
    "y_train = train[variable].dropna()\n",
    "X_train = X_train.loc[y_train.index.values]"
   ]
  },
  {
   "cell_type": "code",
   "execution_count": null,
   "id": "79a9d3c1-0ebf-4dcf-92b2-f18588a32a6d",
   "metadata": {
    "id": "79a9d3c1-0ebf-4dcf-92b2-f18588a32a6d"
   },
   "outputs": [],
   "source": [
    "selector_k_best = SelectKBest(score_func=f_regression, k = 5810)\n",
    "\n",
    "xg_reg = xgb.XGBRegressor(objective ='reg:squarederror', \n",
    "                          subsample=0.6, \n",
    "                          n_estimators=180, \n",
    "                         min_child_weight=7,\n",
    "                         max_depth=10,\n",
    "                         learning_rate = 0.05,\n",
    "                         gamma = 1.46, \n",
    "                         colsample_bytree = 0.6, \n",
    "                         colsample_bylevel = 1.0)\n",
    "\n",
    "pipeline = Pipeline(steps=[('impute', SimpleImputer(strategy='median')), ('normalize', RobustScaler()), ('sel', selector_k_best), ('xgboost', xg_reg)])\n",
    "\n",
    "model_pipe = Pipeline([('model', TransformedTargetRegressor(regressor=pipeline, transformer=StandardScaler()))])"
   ]
  },
  {
   "cell_type": "code",
   "execution_count": null,
   "id": "4a44027d-9352-458f-a12d-2e2dca08e83e",
   "metadata": {
    "id": "4a44027d-9352-458f-a12d-2e2dca08e83e",
    "outputId": "bd458f93-1661-4656-c209-315c6f974417",
    "tags": []
   },
   "outputs": [
    {
     "name": "stderr",
     "output_type": "stream",
     "text": [
      "/opt/anaconda3/lib/python3.8/site-packages/sklearn/feature_selection/_univariate_selection.py:301: RuntimeWarning: invalid value encountered in true_divide\n",
      "  corr /= X_norms\n"
     ]
    }
   ],
   "source": [
    "boosting = model_pipe.fit(X_train, y_train)"
   ]
  },
  {
   "cell_type": "code",
   "execution_count": null,
   "id": "132dcedd-2b50-430f-9f56-1a60517f27ad",
   "metadata": {
    "id": "132dcedd-2b50-430f-9f56-1a60517f27ad"
   },
   "outputs": [],
   "source": [
    "X_test = background.loc[test.index]\n",
    "y_test = test[variable].dropna()\n",
    "X_test = X_test.loc[y_test.index.values]"
   ]
  },
  {
   "cell_type": "code",
   "execution_count": null,
   "id": "d527292b-a1ff-461a-94e0-349b81f33ca2",
   "metadata": {
    "id": "d527292b-a1ff-461a-94e0-349b81f33ca2"
   },
   "outputs": [],
   "source": [
    "material_boosing_pred = boosting.predict(X_test)"
   ]
  },
  {
   "cell_type": "code",
   "execution_count": null,
   "id": "35fae738-2b68-487c-aea4-02d510307b91",
   "metadata": {
    "id": "35fae738-2b68-487c-aea4-02d510307b91",
    "outputId": "78a817e8-087e-4c78-c4f1-99bda98e0ae0"
   },
   "outputs": [
    {
     "data": {
      "text/plain": [
       "0.01993581223855128"
      ]
     },
     "metadata": {},
     "output_type": "display_data"
    }
   ],
   "source": [
    "mean_squared_error(y_test,material_boosing_pred)"
   ]
  },
  {
   "cell_type": "code",
   "execution_count": null,
   "id": "5423239b-8818-4ccf-bbaa-c4a7c3b2a11a",
   "metadata": {
    "id": "5423239b-8818-4ccf-bbaa-c4a7c3b2a11a",
    "outputId": "4775b945-485a-4368-f859-75320e2ba30b"
   },
   "outputs": [
    {
     "data": {
      "text/plain": [
       "0.19702783798948142"
      ]
     },
     "metadata": {},
     "output_type": "display_data"
    }
   ],
   "source": [
    "r2_score(y_test,material_boosing_pred)"
   ]
  },
  {
   "cell_type": "markdown",
   "id": "79aa12b2-15a5-4de1-a8f3-e3f42d894ca7",
   "metadata": {
    "id": "79aa12b2-15a5-4de1-a8f3-e3f42d894ca7"
   },
   "source": [
    "# Eviction"
   ]
  },
  {
   "cell_type": "code",
   "execution_count": null,
   "id": "8e9ccb1e-d1cb-43d9-9992-de3d32b2ed83",
   "metadata": {
    "id": "8e9ccb1e-d1cb-43d9-9992-de3d32b2ed83"
   },
   "outputs": [],
   "source": [
    "from sklearn.linear_model import SGDClassifier\n",
    "import imblearn\n",
    "from imblearn.over_sampling import SMOTE\n",
    "from imblearn.over_sampling import RandomOverSampler\n",
    "from imblearn.pipeline import Pipeline\n",
    "from sklearn.metrics import median_absolute_error, r2_score, brier_score_loss\n",
    "\n"
   ]
  },
  {
   "cell_type": "markdown",
   "id": "92210617-f6fa-450d-801f-1a1dfba616cc",
   "metadata": {
    "id": "92210617-f6fa-450d-801f-1a1dfba616cc"
   },
   "source": [
    "## Elastic"
   ]
  },
  {
   "cell_type": "code",
   "execution_count": null,
   "id": "636809bf-d4c1-4c86-b008-6eaf941a8019",
   "metadata": {
    "id": "636809bf-d4c1-4c86-b008-6eaf941a8019"
   },
   "outputs": [],
   "source": [
    "model = joblib.load('models/evic_logist_200.pkl')"
   ]
  },
  {
   "cell_type": "code",
   "execution_count": null,
   "id": "2ea68dd0-2ac9-4531-a945-5debecbb8a91",
   "metadata": {
    "id": "2ea68dd0-2ac9-4531-a945-5debecbb8a91",
    "outputId": "96eb5c61-3dba-4b21-b182-00f98ff56d61"
   },
   "outputs": [
    {
     "data": {
      "text/plain": [
       "{'sgd__l1_ratio': 0.0, 'sgd__alpha': 0.03, 'normalize': MinMaxScaler()}"
      ]
     },
     "metadata": {},
     "output_type": "display_data"
    }
   ],
   "source": [
    "model.best_params_"
   ]
  },
  {
   "cell_type": "code",
   "execution_count": null,
   "id": "445364e3-4f08-4e06-8672-00956bd9cef6",
   "metadata": {
    "id": "445364e3-4f08-4e06-8672-00956bd9cef6"
   },
   "outputs": [],
   "source": [
    "variable = 'eviction'\n",
    "X_train = background.loc[train.index]\n",
    "y_train = train[variable].dropna()\n",
    "X_train = X_train.loc[y_train.index.values]"
   ]
  },
  {
   "cell_type": "code",
   "execution_count": null,
   "id": "257e403c-2cff-4842-8c5e-4c9336df0606",
   "metadata": {
    "id": "257e403c-2cff-4842-8c5e-4c9336df0606"
   },
   "outputs": [],
   "source": [
    "sgd = SGDClassifier(loss='log', penalty='elasticnet', max_iter=10000, alpha=0.03, l1_ratio=0.0)\n",
    "pipeline = Pipeline(steps=[('impute', SimpleImputer()),\n",
    "                           ('sampling', SMOTE()),\n",
    "                           ('normalize', StandardScaler()), \n",
    "                           ('sgd', sgd)])\n"
   ]
  },
  {
   "cell_type": "code",
   "execution_count": null,
   "id": "2b99536c-0189-4427-a789-7866ff129e8d",
   "metadata": {
    "id": "2b99536c-0189-4427-a789-7866ff129e8d"
   },
   "outputs": [],
   "source": [
    "logistic = pipeline.fit(X_train, y_train)"
   ]
  },
  {
   "cell_type": "code",
   "execution_count": null,
   "id": "76912fad-fd51-4169-bd00-5f2e5a8d4968",
   "metadata": {
    "id": "76912fad-fd51-4169-bd00-5f2e5a8d4968"
   },
   "outputs": [],
   "source": [
    "X_test = background.loc[test.index]\n",
    "y_test = test[variable].dropna()\n",
    "X_test = X_test.loc[y_test.index.values]"
   ]
  },
  {
   "cell_type": "code",
   "execution_count": null,
   "id": "fdf9386a-1573-42fe-9ce2-7c2ab7e2581d",
   "metadata": {
    "id": "fdf9386a-1573-42fe-9ce2-7c2ab7e2581d"
   },
   "outputs": [],
   "source": [
    "y_test = np.array(y_test * 1).astype(int)"
   ]
  },
  {
   "cell_type": "code",
   "execution_count": null,
   "id": "2b3adaea-baf8-469d-a8c3-41d1ac015636",
   "metadata": {
    "id": "2b3adaea-baf8-469d-a8c3-41d1ac015636"
   },
   "outputs": [],
   "source": [
    "eviction_elastic_pred = logistic.predict_proba(X_test)[:, 1]"
   ]
  },
  {
   "cell_type": "code",
   "execution_count": null,
   "id": "69f9b732-fb23-4f9c-8162-f89c49159461",
   "metadata": {
    "id": "69f9b732-fb23-4f9c-8162-f89c49159461",
    "outputId": "a13e9037-cc27-41b0-aea1-b1f08d5b898f"
   },
   "outputs": [
    {
     "data": {
      "text/plain": [
       "0.06504720600736875"
      ]
     },
     "metadata": {},
     "output_type": "display_data"
    }
   ],
   "source": [
    "brier_score_loss(y_test,eviction_elastic_pred)"
   ]
  },
  {
   "cell_type": "code",
   "execution_count": null,
   "id": "3642c51a-7941-4257-b2d9-a930324aa0f0",
   "metadata": {
    "id": "3642c51a-7941-4257-b2d9-a930324aa0f0"
   },
   "outputs": [],
   "source": [
    "from sklearn.metrics import recall_score, precision_score\n"
   ]
  },
  {
   "cell_type": "code",
   "execution_count": null,
   "id": "ab6a67eb-2ee7-465f-9491-5b3f7c32673d",
   "metadata": {
    "id": "ab6a67eb-2ee7-465f-9491-5b3f7c32673d"
   },
   "outputs": [],
   "source": [
    "binary_label = (eviction_elastic_pred >= 0.5) * 1"
   ]
  },
  {
   "cell_type": "code",
   "execution_count": null,
   "id": "64ac178a-e566-45b9-be1c-07580149b657",
   "metadata": {
    "id": "64ac178a-e566-45b9-be1c-07580149b657",
    "outputId": "a6ac1f39-7f85-4d3d-b4e2-ebf9ca6a4c1f",
    "tags": []
   },
   "outputs": [
    {
     "data": {
      "text/plain": [
       "0.06153846153846154"
      ]
     },
     "metadata": {},
     "output_type": "display_data"
    }
   ],
   "source": [
    "recall_score(y_test, binary_label)"
   ]
  },
  {
   "cell_type": "code",
   "execution_count": null,
   "id": "3909b17f-2f2f-4b21-99ed-3d1ab59c64d3",
   "metadata": {
    "id": "3909b17f-2f2f-4b21-99ed-3d1ab59c64d3",
    "outputId": "c6437566-c107-4b64-8d95-a4a58e41426f"
   },
   "outputs": [
    {
     "data": {
      "text/plain": [
       "0.19047619047619047"
      ]
     },
     "metadata": {},
     "output_type": "display_data"
    }
   ],
   "source": [
    "precision_score(y_test, binary_label)"
   ]
  },
  {
   "cell_type": "markdown",
   "id": "73e8f49b-5b60-452d-aac8-230fce680128",
   "metadata": {
    "id": "73e8f49b-5b60-452d-aac8-230fce680128"
   },
   "source": [
    "## Random Forest"
   ]
  },
  {
   "cell_type": "code",
   "execution_count": null,
   "id": "550815f7-a1d2-4b3f-acdb-0eb28ccc36f6",
   "metadata": {
    "id": "550815f7-a1d2-4b3f-acdb-0eb28ccc36f6"
   },
   "outputs": [],
   "source": [
    "model = joblib.load('models/evic_rf_200.pkl')"
   ]
  },
  {
   "cell_type": "code",
   "execution_count": null,
   "id": "89d6b45b-38ff-4fea-b90b-91a6e69071ea",
   "metadata": {
    "id": "89d6b45b-38ff-4fea-b90b-91a6e69071ea",
    "outputId": "6aec91eb-d72b-4085-c437-87f3a667d10d"
   },
   "outputs": [
    {
     "data": {
      "text/plain": [
       "{'randomforest__n_estimators': 234,\n",
       " 'randomforest__min_samples_split': 5,\n",
       " 'randomforest__min_samples_leaf': 1,\n",
       " 'randomforest__max_features': 'auto',\n",
       " 'randomforest__max_depth': 25,\n",
       " 'normalize': StandardScaler()}"
      ]
     },
     "metadata": {},
     "output_type": "display_data"
    }
   ],
   "source": [
    "model.best_params_"
   ]
  },
  {
   "cell_type": "code",
   "execution_count": null,
   "id": "31f3ed92-ccdd-4ff6-b279-1e5d77541c74",
   "metadata": {
    "id": "31f3ed92-ccdd-4ff6-b279-1e5d77541c74"
   },
   "outputs": [],
   "source": [
    "variable = 'eviction'\n",
    "X_train = background.loc[train.index]\n",
    "y_train = train[variable].dropna()\n",
    "X_train = X_train.loc[y_train.index.values]"
   ]
  },
  {
   "cell_type": "code",
   "execution_count": null,
   "id": "a33d91a8-b316-4374-9bcc-28029451e889",
   "metadata": {
    "id": "a33d91a8-b316-4374-9bcc-28029451e889"
   },
   "outputs": [],
   "source": [
    "rfc = RandomForestClassifier(random_state=0,\n",
    "                            n_estimators=234,\n",
    "                            min_samples_split=5, \n",
    "                            min_samples_leaf= 1, \n",
    "                            max_features = 'auto',\n",
    "                            max_depth = 25, \n",
    "                            )\n",
    "\n"
   ]
  },
  {
   "cell_type": "code",
   "execution_count": null,
   "id": "3cb569aa-f60d-4ef8-8c7b-95930b0c4020",
   "metadata": {
    "id": "3cb569aa-f60d-4ef8-8c7b-95930b0c4020"
   },
   "outputs": [],
   "source": [
    "pipeline = Pipeline(steps=[('impute', SimpleImputer()),\n",
    "                           ('sampling', SMOTE()), \n",
    "                           ('normalize', StandardScaler()), \n",
    "                           ('randomforest', rfc)])"
   ]
  },
  {
   "cell_type": "code",
   "execution_count": null,
   "id": "930064d8-ec27-490b-b4cc-b9ba0082c5c7",
   "metadata": {
    "id": "930064d8-ec27-490b-b4cc-b9ba0082c5c7"
   },
   "outputs": [],
   "source": []
  },
  {
   "cell_type": "code",
   "execution_count": null,
   "id": "af76683f-ee32-4aab-9b83-cb78f0ba4ef5",
   "metadata": {
    "id": "af76683f-ee32-4aab-9b83-cb78f0ba4ef5"
   },
   "outputs": [],
   "source": []
  },
  {
   "cell_type": "code",
   "execution_count": null,
   "id": "b8f5227b-8e90-4894-a7bd-e490abb1da9f",
   "metadata": {
    "id": "b8f5227b-8e90-4894-a7bd-e490abb1da9f",
    "tags": []
   },
   "outputs": [],
   "source": [
    "random_forest = pipeline.fit(X_train, y_train)"
   ]
  },
  {
   "cell_type": "code",
   "execution_count": null,
   "id": "d7cf196b-3a60-4df4-8259-e8b039b8a05d",
   "metadata": {
    "id": "d7cf196b-3a60-4df4-8259-e8b039b8a05d"
   },
   "outputs": [],
   "source": [
    "X_test = background.loc[test.index]\n",
    "y_test = test[variable].dropna()\n",
    "X_test = X_test.loc[y_test.index.values]"
   ]
  },
  {
   "cell_type": "code",
   "execution_count": null,
   "id": "bc3d198e-c7cc-4269-9088-5d0d6c38fe8b",
   "metadata": {
    "id": "bc3d198e-c7cc-4269-9088-5d0d6c38fe8b"
   },
   "outputs": [],
   "source": [
    "y_test = np.array(y_test * 1).astype(int)"
   ]
  },
  {
   "cell_type": "code",
   "execution_count": null,
   "id": "a5cb45ec-ea65-45fc-8fd9-5a5a7d24fd54",
   "metadata": {
    "id": "a5cb45ec-ea65-45fc-8fd9-5a5a7d24fd54"
   },
   "outputs": [],
   "source": [
    "eviction_rf_pred = random_forest.predict_proba(X_test)[:, 1]"
   ]
  },
  {
   "cell_type": "code",
   "execution_count": null,
   "id": "a1501874-9d43-4e4b-b706-256cc49aefd2",
   "metadata": {
    "id": "a1501874-9d43-4e4b-b706-256cc49aefd2",
    "outputId": "d5f19739-942b-4f68-bef9-5ceb335423b5"
   },
   "outputs": [
    {
     "data": {
      "text/plain": [
       "0.054969106819128616"
      ]
     },
     "metadata": {},
     "output_type": "display_data"
    }
   ],
   "source": [
    "brier_score_loss(y_test,eviction_rf_pred)"
   ]
  },
  {
   "cell_type": "code",
   "execution_count": null,
   "id": "59c3fefe-5792-4e94-9525-4ea2e2826005",
   "metadata": {
    "id": "59c3fefe-5792-4e94-9525-4ea2e2826005"
   },
   "outputs": [],
   "source": [
    "binary_label = (eviction_rf_pred >= 0.5) * 1"
   ]
  },
  {
   "cell_type": "code",
   "execution_count": null,
   "id": "95effade-c0b4-449d-8795-7e1da830a96d",
   "metadata": {
    "id": "95effade-c0b4-449d-8795-7e1da830a96d",
    "outputId": "dd82cd2f-7029-435f-b28d-1f7f3d568045"
   },
   "outputs": [
    {
     "data": {
      "text/plain": [
       "0.0"
      ]
     },
     "metadata": {},
     "output_type": "display_data"
    }
   ],
   "source": [
    "recall_score(y_test, binary_label)"
   ]
  },
  {
   "cell_type": "code",
   "execution_count": null,
   "id": "f87079f9-892f-43d8-9e74-64cdb4dd0a2c",
   "metadata": {
    "id": "f87079f9-892f-43d8-9e74-64cdb4dd0a2c",
    "outputId": "32ba93f4-1623-4fa1-e446-fbecedc7629b"
   },
   "outputs": [
    {
     "name": "stderr",
     "output_type": "stream",
     "text": [
      "/opt/anaconda3/lib/python3.8/site-packages/sklearn/metrics/_classification.py:1245: UndefinedMetricWarning: Precision is ill-defined and being set to 0.0 due to no predicted samples. Use `zero_division` parameter to control this behavior.\n",
      "  _warn_prf(average, modifier, msg_start, len(result))\n"
     ]
    },
    {
     "data": {
      "text/plain": [
       "0.0"
      ]
     },
     "metadata": {},
     "output_type": "display_data"
    }
   ],
   "source": [
    "precision_score(y_test, binary_label)"
   ]
  },
  {
   "cell_type": "markdown",
   "id": "a43bb406-45eb-4a8a-8b5e-e5df2046b018",
   "metadata": {
    "id": "a43bb406-45eb-4a8a-8b5e-e5df2046b018"
   },
   "source": [
    "## Gradient Boosting"
   ]
  },
  {
   "cell_type": "code",
   "execution_count": null,
   "id": "bd9b4feb-3116-4a82-8219-cfa706f644f8",
   "metadata": {
    "id": "bd9b4feb-3116-4a82-8219-cfa706f644f8",
    "tags": []
   },
   "outputs": [],
   "source": [
    "model = joblib.load('models/evic_xgb_200.pkl')"
   ]
  },
  {
   "cell_type": "code",
   "execution_count": null,
   "id": "113e4ebe-9282-4823-9112-456691c09c60",
   "metadata": {
    "collapsed": true,
    "id": "113e4ebe-9282-4823-9112-456691c09c60",
    "jupyter": {
     "outputs_hidden": true
    },
    "outputId": "707d6cc6-ff8f-4cc4-d14e-222eaf7bf33c",
    "tags": []
   },
   "outputs": [
    {
     "data": {
      "text/plain": [
       "{'xgboost__subsample': 0.4000000000000001,\n",
       " 'xgboost__n_estimators': 230,\n",
       " 'xgboost__min_child_weight': 7,\n",
       " 'xgboost__max_depth': 3,\n",
       " 'xgboost__learning_rate': 0.03350000000000002,\n",
       " 'xgboost__gamma': 1.52,\n",
       " 'xgboost__colsample_bytree': 0.7000000000000002,\n",
       " 'xgboost__colsample_bylevel': 1.0,\n",
       " 'impute__strategy': 'median',\n",
       " 'feat_select__k': 7210}"
      ]
     },
     "metadata": {},
     "output_type": "display_data"
    }
   ],
   "source": [
    "model.best_params_"
   ]
  },
  {
   "cell_type": "code",
   "execution_count": null,
   "id": "924e2db6-bb98-419f-b4f6-dfce78163a75",
   "metadata": {
    "id": "924e2db6-bb98-419f-b4f6-dfce78163a75",
    "tags": []
   },
   "outputs": [],
   "source": [
    "variable = 'eviction'\n",
    "X_train = background.loc[train.index]\n",
    "y_train = train[variable].dropna()\n",
    "X_train = X_train.loc[y_train.index.values]"
   ]
  },
  {
   "cell_type": "code",
   "execution_count": null,
   "id": "a2271130-57c2-4a3a-b282-d77919fb9252",
   "metadata": {
    "id": "a2271130-57c2-4a3a-b282-d77919fb9252",
    "tags": []
   },
   "outputs": [],
   "source": [
    "\n",
    "xg_reg = xgb.XGBClassifier(objective ='binary:logistic', \n",
    "                           subsample = 0.4, \n",
    "                          n_estimators = 230, \n",
    "                          min_child_weight = 7, \n",
    "                          max_depth = 3, \n",
    "                          learning_rate = 0.03, \n",
    "                          gamma = 1.52, \n",
    "                          colsample_bytree = 0.7, \n",
    "                          colsample_bylevel = 1)\n",
    "\n",
    "pipeline = Pipeline(steps=[('impute', SimpleImputer(strategy = 'median')),\n",
    "                           ('normalize', MinMaxScaler()), \n",
    "                           ('feat_select', SelectKBest(f_classif, k = 7210)),\n",
    "                           ('xgboost', xg_reg)])\n",
    "\n"
   ]
  },
  {
   "cell_type": "code",
   "execution_count": null,
   "id": "81f0443f-a899-4a2b-b8b5-2c22cdfc181a",
   "metadata": {
    "id": "81f0443f-a899-4a2b-b8b5-2c22cdfc181a",
    "outputId": "4aee2abb-3d9a-4d59-eb30-e15830e80429",
    "tags": []
   },
   "outputs": [
    {
     "name": "stderr",
     "output_type": "stream",
     "text": [
      "/opt/anaconda3/lib/python3.8/site-packages/sklearn/feature_selection/_univariate_selection.py:114: UserWarning: Features [  809   813   834 ... 29363 29383 29423] are constant.\n",
      "  warnings.warn(\"Features %s are constant.\" % constant_features_idx,\n",
      "/opt/anaconda3/lib/python3.8/site-packages/sklearn/feature_selection/_univariate_selection.py:116: RuntimeWarning: invalid value encountered in true_divide\n",
      "  f = msb / msw\n",
      "/opt/anaconda3/lib/python3.8/site-packages/xgboost/sklearn.py:888: UserWarning: The use of label encoder in XGBClassifier is deprecated and will be removed in a future release. To remove this warning, do the following: 1) Pass option use_label_encoder=False when constructing XGBClassifier object; and 2) Encode your labels (y) as integers starting with 0, i.e. 0, 1, 2, ..., [num_class - 1].\n",
      "  warnings.warn(label_encoder_deprecation_msg, UserWarning)\n"
     ]
    },
    {
     "name": "stdout",
     "output_type": "stream",
     "text": [
      "[21:43:48] WARNING: ../src/learner.cc:1061: Starting in XGBoost 1.3.0, the default evaluation metric used with the objective 'binary:logistic' was changed from 'error' to 'logloss'. Explicitly set eval_metric if you'd like to restore the old behavior.\n"
     ]
    }
   ],
   "source": [
    "boosting = pipeline.fit(X_train, y_train)"
   ]
  },
  {
   "cell_type": "code",
   "execution_count": null,
   "id": "ed6e93c9-80fd-417a-ae8c-8f71c2a213a5",
   "metadata": {
    "id": "ed6e93c9-80fd-417a-ae8c-8f71c2a213a5",
    "tags": []
   },
   "outputs": [],
   "source": [
    "X_test = background.loc[test.index]\n",
    "y_test = test[variable].dropna()\n",
    "X_test = X_test.loc[y_test.index.values]"
   ]
  },
  {
   "cell_type": "code",
   "execution_count": null,
   "id": "3e47b4ed-db45-4f33-9cc2-5398e07530d5",
   "metadata": {
    "id": "3e47b4ed-db45-4f33-9cc2-5398e07530d5",
    "tags": []
   },
   "outputs": [],
   "source": [
    "y_test = np.array(y_test * 1).astype(int)"
   ]
  },
  {
   "cell_type": "code",
   "execution_count": null,
   "id": "5e112340-b73b-4b41-8ff4-f58af41c5f53",
   "metadata": {
    "id": "5e112340-b73b-4b41-8ff4-f58af41c5f53"
   },
   "outputs": [],
   "source": [
    "eviction_boosting_pred = boosting.predict_proba(X_test)[:, 1]"
   ]
  },
  {
   "cell_type": "code",
   "execution_count": null,
   "id": "76766284-f422-41f2-865b-834c7478134f",
   "metadata": {
    "id": "76766284-f422-41f2-865b-834c7478134f",
    "outputId": "1e014d90-f767-41ee-fafc-073e595e073a"
   },
   "outputs": [
    {
     "data": {
      "text/plain": [
       "0.0525810424580952"
      ]
     },
     "metadata": {},
     "output_type": "display_data"
    }
   ],
   "source": [
    "brier_score_loss(y_test,eviction_boosting_pred)"
   ]
  },
  {
   "cell_type": "code",
   "execution_count": null,
   "id": "b6d86472-94bf-49a6-837f-0deebe727dc9",
   "metadata": {
    "id": "b6d86472-94bf-49a6-837f-0deebe727dc9"
   },
   "outputs": [],
   "source": [
    "binary_label = (eviction_boosting_pred >= 0.18) * 1"
   ]
  },
  {
   "cell_type": "code",
   "execution_count": null,
   "id": "30f57d46-ab12-41d3-acbc-6a80ae4f67a2",
   "metadata": {
    "id": "30f57d46-ab12-41d3-acbc-6a80ae4f67a2",
    "outputId": "924ec3ee-315f-4a12-8ea9-9e37a06b31ad",
    "tags": []
   },
   "outputs": [
    {
     "data": {
      "text/plain": [
       "0.15384615384615385"
      ]
     },
     "metadata": {},
     "output_type": "display_data"
    }
   ],
   "source": [
    "recall_score(y_test, binary_label)"
   ]
  },
  {
   "cell_type": "code",
   "execution_count": null,
   "id": "32328af7-da3e-415e-9497-d24775b0ac2c",
   "metadata": {
    "id": "32328af7-da3e-415e-9497-d24775b0ac2c",
    "outputId": "f7d9ce55-b85b-454b-f2d1-f79266f64cc4"
   },
   "outputs": [
    {
     "data": {
      "text/plain": [
       "0.18518518518518517"
      ]
     },
     "metadata": {},
     "output_type": "display_data"
    }
   ],
   "source": [
    "precision_score(y_test, binary_label)"
   ]
  },
  {
   "cell_type": "code",
   "execution_count": null,
   "id": "b222cba6-e460-4d6a-be24-d9f5e7c63764",
   "metadata": {
    "id": "b222cba6-e460-4d6a-be24-d9f5e7c63764"
   },
   "outputs": [],
   "source": [
    "import shap"
   ]
  },
  {
   "cell_type": "code",
   "execution_count": null,
   "id": "54354141-8383-45ca-bdb8-7d77cf551266",
   "metadata": {
    "id": "54354141-8383-45ca-bdb8-7d77cf551266",
    "tags": []
   },
   "outputs": [],
   "source": [
    "variable = 'eviction'\n",
    "X_train = background.loc[train.index]\n",
    "y_train = train[variable].dropna()\n",
    "X_train = X_train.loc[y_train.index.values]"
   ]
  },
  {
   "cell_type": "code",
   "execution_count": null,
   "id": "ed233e85-bc96-494b-8007-6852efa21507",
   "metadata": {
    "id": "ed233e85-bc96-494b-8007-6852efa21507"
   },
   "outputs": [],
   "source": [
    "X_test = background.loc[test.index]\n",
    "y_test = test[variable].dropna()\n",
    "X_test = X_test.loc[y_test.index.values]"
   ]
  },
  {
   "cell_type": "code",
   "execution_count": null,
   "id": "9d96a178-bfca-476b-a3a7-8289597844c2",
   "metadata": {
    "id": "9d96a178-bfca-476b-a3a7-8289597844c2",
    "tags": []
   },
   "outputs": [],
   "source": [
    "#fill NAs \n",
    "means_train = X_train.mean()\n",
    "X_train = X_train.fillna(means_train)\n",
    "X_test = X_test.fillna(means_train)\n",
    "\n",
    "#minmaxscaler on X_values\n",
    "minmax = MinMaxScaler()\n",
    "X_train = minmax.fit_transform(X_train)\n",
    "X_test = minmax.transform(X_test)\n",
    "\n",
    "xg_reg = xgb.XGBClassifier(objective ='binary:logistic', \n",
    "                           subsample = 0.4, \n",
    "                          n_estimators = 230, \n",
    "                          min_child_weight = 7, \n",
    "                          max_depth = 3, \n",
    "                          learning_rate = 0.03, \n",
    "                          gamma = 1.52, \n",
    "                          colsample_bytree = 0.7, \n",
    "                          colsample_bylevel = 1)"
   ]
  },
  {
   "cell_type": "code",
   "execution_count": null,
   "id": "4c6d5447-87d7-4a41-84c2-cb5899a08716",
   "metadata": {
    "id": "4c6d5447-87d7-4a41-84c2-cb5899a08716"
   },
   "outputs": [],
   "source": [
    "yscale = StandardScaler()\n",
    "y_train_trans = yscale.fit_transform(np.array(y_train).reshape(len(y_train), 1))"
   ]
  },
  {
   "cell_type": "code",
   "execution_count": null,
   "id": "75b99a35-bcc2-4001-9b07-18e3aa5ab388",
   "metadata": {
    "collapsed": true,
    "id": "75b99a35-bcc2-4001-9b07-18e3aa5ab388",
    "jupyter": {
     "outputs_hidden": true
    },
    "outputId": "b3718113-12ec-4827-e410-b6df35115974",
    "tags": []
   },
   "outputs": [
    {
     "name": "stderr",
     "output_type": "stream",
     "text": [
      "The use of label encoder in XGBClassifier is deprecated and will be removed in a future release. To remove this warning, do the following: 1) Pass option use_label_encoder=False when constructing XGBClassifier object; and 2) Encode your labels (y) as integers starting with 0, i.e. 0, 1, 2, ..., [num_class - 1].\n",
      "A column-vector y was passed when a 1d array was expected. Please change the shape of y to (n_samples, ), for example using ravel().\n"
     ]
    },
    {
     "name": "stdout",
     "output_type": "stream",
     "text": [
      "[21:48:28] WARNING: ../src/learner.cc:1061: Starting in XGBoost 1.3.0, the default evaluation metric used with the objective 'binary:logistic' was changed from 'error' to 'logloss'. Explicitly set eval_metric if you'd like to restore the old behavior.\n"
     ]
    },
    {
     "data": {
      "text/plain": [
       "XGBClassifier(base_score=0.5, booster='gbtree', colsample_bylevel=1,\n",
       "              colsample_bynode=1, colsample_bytree=0.7, gamma=1.52, gpu_id=-1,\n",
       "              importance_type='gain', interaction_constraints='',\n",
       "              learning_rate=0.03, max_delta_step=0, max_depth=3,\n",
       "              min_child_weight=7, missing=nan, monotone_constraints='()',\n",
       "              n_estimators=230, n_jobs=8, num_parallel_tree=1, random_state=0,\n",
       "              reg_alpha=0, reg_lambda=1, scale_pos_weight=1, subsample=0.4,\n",
       "              tree_method='exact', validate_parameters=1, verbosity=None)"
      ]
     },
     "metadata": {},
     "output_type": "display_data"
    }
   ],
   "source": [
    "xg_reg.fit(X_train, y_train_trans)"
   ]
  },
  {
   "cell_type": "code",
   "execution_count": null,
   "id": "ef3a454d-599d-4da4-ab79-b81fa89e586d",
   "metadata": {
    "id": "ef3a454d-599d-4da4-ab79-b81fa89e586d"
   },
   "outputs": [],
   "source": [
    "mybooster = xg_reg.get_booster()    "
   ]
  },
  {
   "cell_type": "code",
   "execution_count": null,
   "id": "d4dd69d6-cc45-4382-ab3b-4d0abee2fb19",
   "metadata": {
    "id": "d4dd69d6-cc45-4382-ab3b-4d0abee2fb19"
   },
   "outputs": [],
   "source": [
    "model_bytearray = mybooster.save_raw()[4:]"
   ]
  },
  {
   "cell_type": "code",
   "execution_count": null,
   "id": "73568186-0d23-4cd5-bef9-7d0c549658b9",
   "metadata": {
    "id": "73568186-0d23-4cd5-bef9-7d0c549658b9"
   },
   "outputs": [],
   "source": [
    "def myfun(self=None):\n",
    "    return model_bytearray\n",
    "mybooster.save_raw = myfun"
   ]
  },
  {
   "cell_type": "code",
   "execution_count": null,
   "id": "cbc1e5c3-95b6-4826-a715-e27df1fcbeeb",
   "metadata": {
    "id": "cbc1e5c3-95b6-4826-a715-e27df1fcbeeb",
    "outputId": "6ad7442a-e3c9-4f47-a45e-e9267c50a3c0"
   },
   "outputs": [
    {
     "name": "stderr",
     "output_type": "stream",
     "text": [
      "Setting feature_perturbation = \"tree_path_dependent\" because no background data was given.\n"
     ]
    }
   ],
   "source": [
    "shap_ex = shap.TreeExplainer(mybooster)"
   ]
  },
  {
   "cell_type": "code",
   "execution_count": null,
   "id": "0226a09f-8c5c-4279-aa05-4c37a2c020e5",
   "metadata": {
    "id": "0226a09f-8c5c-4279-aa05-4c37a2c020e5"
   },
   "outputs": [],
   "source": [
    "vals= np.abs(shap_values).mean(0)"
   ]
  },
  {
   "cell_type": "code",
   "execution_count": null,
   "id": "79af8723-0411-4ec6-ab5e-a976ac834649",
   "metadata": {
    "id": "79af8723-0411-4ec6-ab5e-a976ac834649",
    "outputId": "0358aa14-4184-4d75-b421-b0601ef79790"
   },
   "outputs": [
    {
     "data": {
      "text/plain": [
       "array([0., 0., 0., ..., 0., 0., 0.], dtype=float32)"
      ]
     },
     "metadata": {},
     "output_type": "display_data"
    }
   ],
   "source": [
    "vals"
   ]
  },
  {
   "cell_type": "code",
   "execution_count": null,
   "id": "4f468674-5aae-460a-a44a-19b9eefa1328",
   "metadata": {
    "id": "4f468674-5aae-460a-a44a-19b9eefa1328"
   },
   "outputs": [],
   "source": [
    "feature_importance = pd.DataFrame(list(zip(background.columns,vals)),columns=['Feature Name','Feature Importance Value'])\n",
    "feature_importance.sort_values(by=['Feature Importance Value'],ascending=False,inplace=True)\n",
    "feature_importance.set_index(\"Feature Name\", inplace=True)\n"
   ]
  },
  {
   "cell_type": "code",
   "execution_count": null,
   "id": "64c38890-bafa-4647-bae3-19aa168bc023",
   "metadata": {
    "id": "64c38890-bafa-4647-bae3-19aa168bc023",
    "outputId": "ee9e570a-3968-43e9-c55c-56aa096ce0c7"
   },
   "outputs": [
    {
     "name": "stdout",
     "output_type": "stream",
     "text": [
      "\\begin{tabular}{lr}\n",
      "\\toprule\n",
      "{} &  Feature Importance Value \\\\\n",
      "Feature Name &                           \\\\\n",
      "\\midrule\n",
      "m5f23c\\_1     &                  0.196777 \\\\\n",
      "m5f23k\\_1     &                  0.155438 \\\\\n",
      "p5j10        &                  0.070845 \\\\\n",
      "f3r4\\_1       &                  0.062510 \\\\\n",
      "m3i6a\\_1      &                  0.055637 \\\\\n",
      "m1j2b        &                  0.051535 \\\\\n",
      "m5f7b\\_1      &                  0.050427 \\\\\n",
      "p3m18a\\_2     &                  0.049570 \\\\\n",
      "\\bottomrule\n",
      "\\end{tabular}\n",
      "\n"
     ]
    }
   ],
   "source": [
    "print(feature_importance.iloc[0:8].to_latex())"
   ]
  },
  {
   "cell_type": "code",
   "execution_count": null,
   "id": "c0402bb9-df71-4bbc-bef3-082fa6e569fc",
   "metadata": {
    "id": "c0402bb9-df71-4bbc-bef3-082fa6e569fc",
    "outputId": "0259c05c-9aa6-43bf-877b-43cbacaf99f9"
   },
   "outputs": [
    {
     "data": {
      "image/png": "[encoded data removed]",
      "text/plain": [
       "<Figure size 576x338.4 with 2 Axes>"
      ]
     },
     "metadata": {},
     "output_type": "display_data"
    }
   ],
   "source": [
    "shap_values = shap_ex.shap_values(X_test)\n",
    "shap.summary_plot(shap_values, X_test, feature_names=list(background), max_display=8)"
   ]
  },
  {
   "cell_type": "markdown",
   "id": "e904f527-5db3-4013-a493-9d51697bbf2c",
   "metadata": {
    "id": "e904f527-5db3-4013-a493-9d51697bbf2c"
   },
   "source": [
    "# Layoff"
   ]
  },
  {
   "cell_type": "markdown",
   "id": "09535bfb-aabb-40b8-b5d8-e164918a76a5",
   "metadata": {
    "id": "09535bfb-aabb-40b8-b5d8-e164918a76a5"
   },
   "source": [
    "## Elastic"
   ]
  },
  {
   "cell_type": "code",
   "execution_count": null,
   "id": "d5f8adb3-4cd7-47e9-a579-d4cf0879f75a",
   "metadata": {
    "id": "d5f8adb3-4cd7-47e9-a579-d4cf0879f75a"
   },
   "outputs": [],
   "source": [
    "model = joblib.load('models/layoff_logr_200.pkl')"
   ]
  },
  {
   "cell_type": "code",
   "execution_count": null,
   "id": "e83f82a6-d71f-44ee-a34d-6e6004fdcbe2",
   "metadata": {
    "id": "e83f82a6-d71f-44ee-a34d-6e6004fdcbe2",
    "outputId": "92722b92-a32f-4051-f51c-16e00aa30832",
    "tags": []
   },
   "outputs": [
    {
     "data": {
      "text/plain": [
       "{'sgd__l1_ratio': 0.55, 'sgd__alpha': 1.69, 'normalize': RobustScaler()}"
      ]
     },
     "metadata": {},
     "output_type": "display_data"
    }
   ],
   "source": [
    "model.best_params_"
   ]
  },
  {
   "cell_type": "code",
   "execution_count": null,
   "id": "98a3dd8c-a3c5-4be5-99f1-1b86b80f1598",
   "metadata": {
    "id": "98a3dd8c-a3c5-4be5-99f1-1b86b80f1598"
   },
   "outputs": [],
   "source": [
    "variable = 'layoff'\n",
    "X_train = background.loc[train.index]\n",
    "y_train = train[variable].dropna()\n",
    "X_train = X_train.loc[y_train.index.values]"
   ]
  },
  {
   "cell_type": "code",
   "execution_count": null,
   "id": "526d7db7-1574-40d2-ab30-b81433d8c9f6",
   "metadata": {
    "id": "526d7db7-1574-40d2-ab30-b81433d8c9f6"
   },
   "outputs": [],
   "source": [
    "sgd = SGDClassifier(loss='log', \n",
    "                    penalty='elasticnet', \n",
    "                    max_iter=10000, \n",
    "                    alpha=1.69, \n",
    "                    l1_ratio=0.55)\n",
    "\n",
    "pipeline = Pipeline(steps=[('impute', SimpleImputer()),\n",
    "                           ('sampling', SMOTE()),\n",
    "                           ('normalize', RobustScaler()), \n",
    "                           ('sgd', sgd)])\n"
   ]
  },
  {
   "cell_type": "code",
   "execution_count": null,
   "id": "2240d64d-ca2a-4b20-8c3c-6cedf8edd056",
   "metadata": {
    "id": "2240d64d-ca2a-4b20-8c3c-6cedf8edd056"
   },
   "outputs": [],
   "source": [
    "logistic = pipeline.fit(X_train, y_train)"
   ]
  },
  {
   "cell_type": "code",
   "execution_count": null,
   "id": "0b28cc76-5756-409e-a7f2-48b7347008f1",
   "metadata": {
    "id": "0b28cc76-5756-409e-a7f2-48b7347008f1"
   },
   "outputs": [],
   "source": [
    "X_test = background.loc[test.index]\n",
    "y_test = test[variable].dropna()\n",
    "X_test = X_test.loc[y_test.index.values]"
   ]
  },
  {
   "cell_type": "code",
   "execution_count": null,
   "id": "79b44847-a04d-4290-a1f6-d3b5ed0f2975",
   "metadata": {
    "id": "79b44847-a04d-4290-a1f6-d3b5ed0f2975"
   },
   "outputs": [],
   "source": [
    "y_test = np.array(y_test * 1).astype(int)"
   ]
  },
  {
   "cell_type": "code",
   "execution_count": null,
   "id": "6642968a-4e3c-410b-86b5-ae811e6c4f3f",
   "metadata": {
    "id": "6642968a-4e3c-410b-86b5-ae811e6c4f3f"
   },
   "outputs": [],
   "source": [
    "layoff_elastic_pred = logistic.predict_proba(X_test)[:, 1]"
   ]
  },
  {
   "cell_type": "code",
   "execution_count": null,
   "id": "0c3da653-6f21-46c5-9e68-4f32885370ae",
   "metadata": {
    "id": "0c3da653-6f21-46c5-9e68-4f32885370ae",
    "outputId": "00b5161a-5dca-45c5-d395-dfc4f9e8dc65"
   },
   "outputs": [
    {
     "data": {
      "text/plain": [
       "0.37631747835399165"
      ]
     },
     "metadata": {},
     "output_type": "display_data"
    }
   ],
   "source": [
    "brier_score_loss(y_test,layoff_elastic_pred)"
   ]
  },
  {
   "cell_type": "code",
   "execution_count": null,
   "id": "1b1e7312-94ff-4092-832d-2c3b9a33c18b",
   "metadata": {
    "id": "1b1e7312-94ff-4092-832d-2c3b9a33c18b"
   },
   "outputs": [],
   "source": [
    "binary_label = (layoff_elastic_pred >= 0.5) * 1"
   ]
  },
  {
   "cell_type": "code",
   "execution_count": null,
   "id": "a6492bde-5de1-448f-8437-f6cf63758bd5",
   "metadata": {
    "id": "a6492bde-5de1-448f-8437-f6cf63758bd5",
    "outputId": "e96ddfee-3300-4d34-a284-022acf7f0637"
   },
   "outputs": [
    {
     "data": {
      "text/plain": [
       "0.5118483412322274"
      ]
     },
     "metadata": {},
     "output_type": "display_data"
    }
   ],
   "source": [
    "recall_score(y_test, binary_label)"
   ]
  },
  {
   "cell_type": "code",
   "execution_count": null,
   "id": "916863b2-72d5-4484-9cd5-8e58e97bedba",
   "metadata": {
    "id": "916863b2-72d5-4484-9cd5-8e58e97bedba",
    "outputId": "f2f08be9-09c9-49ce-a8d7-8f44e6664338"
   },
   "outputs": [
    {
     "data": {
      "text/plain": [
       "0.21428571428571427"
      ]
     },
     "metadata": {},
     "output_type": "display_data"
    }
   ],
   "source": [
    "precision_score(y_test, binary_label)"
   ]
  },
  {
   "cell_type": "markdown",
   "id": "7b287f38-93de-4456-8ae8-34466a4706fb",
   "metadata": {
    "id": "7b287f38-93de-4456-8ae8-34466a4706fb"
   },
   "source": [
    "## Random Forest"
   ]
  },
  {
   "cell_type": "code",
   "execution_count": null,
   "id": "9a5d3719-5bfe-450d-803b-ffd1366082b6",
   "metadata": {
    "id": "9a5d3719-5bfe-450d-803b-ffd1366082b6"
   },
   "outputs": [],
   "source": [
    "model = joblib.load('layoff_200_rf.pkl')"
   ]
  },
  {
   "cell_type": "code",
   "execution_count": null,
   "id": "07142c1b-9226-44fe-92be-d0e08310ca19",
   "metadata": {
    "id": "07142c1b-9226-44fe-92be-d0e08310ca19",
    "outputId": "cf89afdf-335c-42da-eb53-31e3b549efd2",
    "tags": []
   },
   "outputs": [
    {
     "data": {
      "text/plain": [
       "{'sel__k': 11710,\n",
       " 'randomforest__n_estimators': 150,\n",
       " 'randomforest__min_samples_split': 2,\n",
       " 'randomforest__min_samples_leaf': 2,\n",
       " 'randomforest__max_features': 'auto',\n",
       " 'randomforest__max_depth': 15,\n",
       " 'normalize': StandardScaler()}"
      ]
     },
     "metadata": {},
     "output_type": "display_data"
    }
   ],
   "source": [
    "model.best_params_"
   ]
  },
  {
   "cell_type": "code",
   "execution_count": null,
   "id": "58e7f49b-efbf-4a25-92ab-867bb7b2560d",
   "metadata": {
    "id": "58e7f49b-efbf-4a25-92ab-867bb7b2560d"
   },
   "outputs": [],
   "source": [
    "variable = 'layoff'\n",
    "X_train = background.loc[train.index]\n",
    "y_train = train[variable].dropna()\n",
    "X_train = X_train.loc[y_train.index.values]"
   ]
  },
  {
   "cell_type": "code",
   "execution_count": null,
   "id": "f128e632-9d8e-4d09-8b47-84634a35643a",
   "metadata": {
    "id": "f128e632-9d8e-4d09-8b47-84634a35643a"
   },
   "outputs": [],
   "source": [
    "rfc = RandomForestClassifier(random_state=0, \n",
    "                            n_estimators = 150, \n",
    "                            min_samples_split = 2, \n",
    "                            min_samples_leaf = 2, \n",
    "                            max_features = 'auto', \n",
    "                            max_depth = 15)"
   ]
  },
  {
   "cell_type": "code",
   "execution_count": null,
   "id": "4cee3be8-e49a-426f-8509-4da0cfa4be9c",
   "metadata": {
    "id": "4cee3be8-e49a-426f-8509-4da0cfa4be9c"
   },
   "outputs": [],
   "source": [
    "selector_k_best = SelectKBest(score_func=f_classif, k = 11710)\n",
    "\n",
    "\n",
    "pipeline = Pipeline(steps=[('impute', SimpleImputer()),\n",
    "                           ('sampling', SMOTE()), \n",
    "                           ('normalize', \"passthrough\"),\n",
    "                           ('sel', selector_k_best),\n",
    "                           ('randomforest', rfc)])"
   ]
  },
  {
   "cell_type": "code",
   "execution_count": null,
   "id": "f020beee-f1e4-4148-a716-44798a65b520",
   "metadata": {
    "id": "f020beee-f1e4-4148-a716-44798a65b520",
    "outputId": "0a829322-4599-4731-eb0e-2e300106e5f0"
   },
   "outputs": [
    {
     "name": "stderr",
     "output_type": "stream",
     "text": [
      "/opt/anaconda3/lib/python3.8/site-packages/sklearn/feature_selection/_univariate_selection.py:114: UserWarning: Features [  809   813   834 ... 29363 29383 29423] are constant.\n",
      "  warnings.warn(\"Features %s are constant.\" % constant_features_idx,\n",
      "/opt/anaconda3/lib/python3.8/site-packages/sklearn/feature_selection/_univariate_selection.py:116: RuntimeWarning: invalid value encountered in true_divide\n",
      "  f = msb / msw\n"
     ]
    }
   ],
   "source": [
    "rf = pipeline.fit(X_train, y_train)"
   ]
  },
  {
   "cell_type": "code",
   "execution_count": null,
   "id": "76239682-23e1-41f6-96b1-38fab5834b53",
   "metadata": {
    "id": "76239682-23e1-41f6-96b1-38fab5834b53"
   },
   "outputs": [],
   "source": [
    "X_test = background.loc[test.index]\n",
    "y_test = test[variable].dropna()\n",
    "X_test = X_test.loc[y_test.index.values]"
   ]
  },
  {
   "cell_type": "code",
   "execution_count": null,
   "id": "fd08d01e-f744-4190-adb1-f33066ae9f2c",
   "metadata": {
    "id": "fd08d01e-f744-4190-adb1-f33066ae9f2c"
   },
   "outputs": [],
   "source": [
    "y_test = np.array(y_test * 1).astype(int)"
   ]
  },
  {
   "cell_type": "code",
   "execution_count": null,
   "id": "a32a30ec-59c3-4a87-8283-16fc279ca349",
   "metadata": {
    "id": "a32a30ec-59c3-4a87-8283-16fc279ca349"
   },
   "outputs": [],
   "source": [
    "layoff_rf_pred = rf.predict_proba(X_test)[:, 1]"
   ]
  },
  {
   "cell_type": "code",
   "execution_count": null,
   "id": "94b0cc5c-3b0b-4d02-a6bc-eabd9d595bc6",
   "metadata": {
    "id": "94b0cc5c-3b0b-4d02-a6bc-eabd9d595bc6",
    "outputId": "084bf3e8-39b8-4f69-c464-fe58602ff88f"
   },
   "outputs": [
    {
     "data": {
      "text/plain": [
       "0.16826965167406932"
      ]
     },
     "metadata": {},
     "output_type": "display_data"
    }
   ],
   "source": [
    "brier_score_loss(y_test,layoff_rf_pred)"
   ]
  },
  {
   "cell_type": "code",
   "execution_count": null,
   "id": "c79ad532-cd90-4085-b006-bd8b4a5ce95d",
   "metadata": {
    "id": "c79ad532-cd90-4085-b006-bd8b4a5ce95d"
   },
   "outputs": [],
   "source": [
    "binary_label = (layoff_rf_pred >= 0.5) * 1"
   ]
  },
  {
   "cell_type": "code",
   "execution_count": null,
   "id": "a140877a-fde8-432a-b038-967459b87562",
   "metadata": {
    "id": "a140877a-fde8-432a-b038-967459b87562",
    "outputId": "f7321879-79c0-44ce-8204-4ce131c459e9"
   },
   "outputs": [
    {
     "data": {
      "text/plain": [
       "0.0"
      ]
     },
     "metadata": {},
     "output_type": "display_data"
    }
   ],
   "source": [
    "recall_score(y_test, binary_label)"
   ]
  },
  {
   "cell_type": "code",
   "execution_count": null,
   "id": "f54809d0-9e8a-4744-8e9b-215df0de722d",
   "metadata": {
    "id": "f54809d0-9e8a-4744-8e9b-215df0de722d",
    "outputId": "779b5d5f-c06e-40bd-8780-42e0813572fe"
   },
   "outputs": [
    {
     "name": "stderr",
     "output_type": "stream",
     "text": [
      "/opt/anaconda3/lib/python3.8/site-packages/sklearn/metrics/_classification.py:1245: UndefinedMetricWarning: Precision is ill-defined and being set to 0.0 due to no predicted samples. Use `zero_division` parameter to control this behavior.\n",
      "  _warn_prf(average, modifier, msg_start, len(result))\n"
     ]
    },
    {
     "data": {
      "text/plain": [
       "0.0"
      ]
     },
     "metadata": {},
     "output_type": "display_data"
    }
   ],
   "source": [
    "precision_score(y_test, binary_label)"
   ]
  },
  {
   "cell_type": "markdown",
   "id": "d323c511-2433-460b-a70c-e33af719584d",
   "metadata": {
    "id": "d323c511-2433-460b-a70c-e33af719584d"
   },
   "source": [
    "## Gradient Boosting"
   ]
  },
  {
   "cell_type": "code",
   "execution_count": null,
   "id": "0a4fa057-3fc1-467d-8795-52ad2f1dd5fd",
   "metadata": {
    "id": "0a4fa057-3fc1-467d-8795-52ad2f1dd5fd",
    "tags": []
   },
   "outputs": [],
   "source": [
    "model = joblib.load('models/layoff_xgb_200.pkl')"
   ]
  },
  {
   "cell_type": "code",
   "execution_count": null,
   "id": "15aab1cc-433b-4236-a792-9764f4e66fdf",
   "metadata": {
    "id": "15aab1cc-433b-4236-a792-9764f4e66fdf",
    "outputId": "fdaa1996-a7b8-4bc1-92fe-adb8741dd68b",
    "tags": []
   },
   "outputs": [
    {
     "data": {
      "text/plain": [
       "{'xgboost__subsample': 0.5000000000000001,\n",
       " 'xgboost__n_estimators': 290,\n",
       " 'xgboost__min_child_weight': 5,\n",
       " 'xgboost__max_depth': 8,\n",
       " 'xgboost__learning_rate': 0.09750000000000007,\n",
       " 'xgboost__gamma': 1.44,\n",
       " 'xgboost__colsample_bytree': 0.3,\n",
       " 'xgboost__colsample_bylevel': 0.0,\n",
       " 'impute__strategy': 'mean',\n",
       " 'feat_select__k': 6010}"
      ]
     },
     "metadata": {},
     "output_type": "display_data"
    }
   ],
   "source": [
    "model.best_params_"
   ]
  },
  {
   "cell_type": "code",
   "execution_count": null,
   "id": "49d2ae95-2d65-4545-bf34-5112518f4ca9",
   "metadata": {
    "id": "49d2ae95-2d65-4545-bf34-5112518f4ca9",
    "tags": []
   },
   "outputs": [],
   "source": [
    "variable = 'layoff'\n",
    "X_train = background.loc[train.index]\n",
    "y_train = train[variable].dropna()\n",
    "X_train = X_train.loc[y_train.index.values]"
   ]
  },
  {
   "cell_type": "code",
   "execution_count": null,
   "id": "88272faa-ccbc-4c26-8a2b-2bebc4113506",
   "metadata": {
    "id": "88272faa-ccbc-4c26-8a2b-2bebc4113506",
    "tags": []
   },
   "outputs": [],
   "source": [
    "\n",
    "xg_reg = xgb.XGBClassifier(objective ='binary:logistic', \n",
    "                           subsample = 0.5, \n",
    "                          n_estimators = 290, \n",
    "                          min_child_weight = 5, \n",
    "                          max_depth = 8, \n",
    "                          learning_rate = 0.097, \n",
    "                          gamma = 1.44, \n",
    "                          colsample_bytree = 0.3, \n",
    "                          colsample_bylevel = 0)\n",
    "\n",
    "pipeline = Pipeline(steps=[('impute', SimpleImputer(strategy = 'mean')),\n",
    "                           ('normalize', MinMaxScaler()), \n",
    "                           ('feat_select', SelectKBest(f_classif, k = 6010)),\n",
    "                           ('xgboost', xg_reg)])\n",
    "\n"
   ]
  },
  {
   "cell_type": "code",
   "execution_count": null,
   "id": "23ed856f-dd8a-4c4f-8957-236a9cff1e7d",
   "metadata": {
    "id": "23ed856f-dd8a-4c4f-8957-236a9cff1e7d",
    "outputId": "c0ddf755-e167-4556-90b7-bb908a815422",
    "tags": []
   },
   "outputs": [
    {
     "name": "stderr",
     "output_type": "stream",
     "text": [
      "/opt/anaconda3/lib/python3.8/site-packages/sklearn/feature_selection/_univariate_selection.py:114: UserWarning: Features [  809   813   834 ... 29363 29383 29423] are constant.\n",
      "  warnings.warn(\"Features %s are constant.\" % constant_features_idx,\n",
      "/opt/anaconda3/lib/python3.8/site-packages/sklearn/feature_selection/_univariate_selection.py:116: RuntimeWarning: invalid value encountered in true_divide\n",
      "  f = msb / msw\n",
      "/opt/anaconda3/lib/python3.8/site-packages/xgboost/sklearn.py:888: UserWarning: The use of label encoder in XGBClassifier is deprecated and will be removed in a future release. To remove this warning, do the following: 1) Pass option use_label_encoder=False when constructing XGBClassifier object; and 2) Encode your labels (y) as integers starting with 0, i.e. 0, 1, 2, ..., [num_class - 1].\n",
      "  warnings.warn(label_encoder_deprecation_msg, UserWarning)\n"
     ]
    },
    {
     "name": "stdout",
     "output_type": "stream",
     "text": [
      "[21:46:17] WARNING: ../src/learner.cc:1061: Starting in XGBoost 1.3.0, the default evaluation metric used with the objective 'binary:logistic' was changed from 'error' to 'logloss'. Explicitly set eval_metric if you'd like to restore the old behavior.\n"
     ]
    }
   ],
   "source": [
    "boosting = pipeline.fit(X_train, y_train)"
   ]
  },
  {
   "cell_type": "code",
   "execution_count": null,
   "id": "cac4b412-6f52-4921-9a45-bad2fe75e4ee",
   "metadata": {
    "id": "cac4b412-6f52-4921-9a45-bad2fe75e4ee",
    "tags": []
   },
   "outputs": [],
   "source": [
    "X_test = background.loc[test.index]\n",
    "y_test = test[variable].dropna()\n",
    "X_test = X_test.loc[y_test.index.values]"
   ]
  },
  {
   "cell_type": "code",
   "execution_count": null,
   "id": "4a5607c5-b225-4b9b-952f-d47a9bcc6179",
   "metadata": {
    "id": "4a5607c5-b225-4b9b-952f-d47a9bcc6179",
    "tags": []
   },
   "outputs": [],
   "source": [
    "y_test = np.array(y_test * 1).astype(int)"
   ]
  },
  {
   "cell_type": "code",
   "execution_count": null,
   "id": "7639bca8-e624-4bb2-908d-5669d8135ceb",
   "metadata": {
    "id": "7639bca8-e624-4bb2-908d-5669d8135ceb"
   },
   "outputs": [],
   "source": [
    "layoff_boosting_pred = boosting.predict_proba(X_test)[:, 1]"
   ]
  },
  {
   "cell_type": "code",
   "execution_count": null,
   "id": "396315e8-3262-40b1-8b16-c0e396d51e7d",
   "metadata": {
    "id": "396315e8-3262-40b1-8b16-c0e396d51e7d",
    "outputId": "1435f638-e4f8-4c12-afa9-8873e6708926"
   },
   "outputs": [
    {
     "data": {
      "text/plain": [
       "0.16693356536060125"
      ]
     },
     "metadata": {},
     "output_type": "display_data"
    }
   ],
   "source": [
    "brier_score_loss(y_test,layoff_boosting_pred)"
   ]
  },
  {
   "cell_type": "code",
   "execution_count": null,
   "id": "5b4d9d13-1aef-42e5-b164-f135843663b2",
   "metadata": {
    "id": "5b4d9d13-1aef-42e5-b164-f135843663b2"
   },
   "outputs": [],
   "source": [
    "binary_label = (layoff_boosting_pred >= 0.5) * 1"
   ]
  },
  {
   "cell_type": "code",
   "execution_count": null,
   "id": "82c6844c-75b8-4a0a-9a48-615a83a0ec6f",
   "metadata": {
    "id": "82c6844c-75b8-4a0a-9a48-615a83a0ec6f",
    "outputId": "e3270c58-6e9b-425f-cfc1-3d2449af2d45"
   },
   "outputs": [
    {
     "data": {
      "text/plain": [
       "0.0"
      ]
     },
     "metadata": {},
     "output_type": "display_data"
    }
   ],
   "source": [
    "recall_score(y_test, binary_label)"
   ]
  },
  {
   "cell_type": "code",
   "execution_count": null,
   "id": "950df667-5460-40ec-9e0f-4e00c8b82b44",
   "metadata": {
    "id": "950df667-5460-40ec-9e0f-4e00c8b82b44",
    "outputId": "b12d6988-ff56-4c68-8948-e3817e801832"
   },
   "outputs": [
    {
     "name": "stderr",
     "output_type": "stream",
     "text": [
      "/opt/anaconda3/lib/python3.8/site-packages/sklearn/metrics/_classification.py:1245: UndefinedMetricWarning: Precision is ill-defined and being set to 0.0 due to no predicted samples. Use `zero_division` parameter to control this behavior.\n",
      "  _warn_prf(average, modifier, msg_start, len(result))\n"
     ]
    },
    {
     "data": {
      "text/plain": [
       "0.0"
      ]
     },
     "metadata": {},
     "output_type": "display_data"
    }
   ],
   "source": [
    "precision_score(y_test, binary_label)"
   ]
  },
  {
   "cell_type": "code",
   "execution_count": null,
   "id": "a262714b-d77c-4869-847d-2a1b50d8c8d3",
   "metadata": {
    "id": "a262714b-d77c-4869-847d-2a1b50d8c8d3"
   },
   "outputs": [],
   "source": [
    "import shap"
   ]
  },
  {
   "cell_type": "code",
   "execution_count": null,
   "id": "c1e72559-48aa-4ca0-aca4-a251dd245c43",
   "metadata": {
    "id": "c1e72559-48aa-4ca0-aca4-a251dd245c43",
    "tags": []
   },
   "outputs": [],
   "source": [
    "variable = 'layoff'\n",
    "X_train = background.loc[train.index]\n",
    "y_train = train[variable].dropna()\n",
    "X_train = X_train.loc[y_train.index.values]"
   ]
  },
  {
   "cell_type": "code",
   "execution_count": null,
   "id": "10f2748a-0adb-4701-b245-0ad51b54c1a1",
   "metadata": {
    "id": "10f2748a-0adb-4701-b245-0ad51b54c1a1"
   },
   "outputs": [],
   "source": [
    "X_test = background.loc[test.index]\n",
    "y_test = test[variable].dropna()\n",
    "X_test = X_test.loc[y_test.index.values]"
   ]
  },
  {
   "cell_type": "code",
   "execution_count": null,
   "id": "1c1046bb-e146-4cb8-b30d-3121b3f63b74",
   "metadata": {
    "id": "1c1046bb-e146-4cb8-b30d-3121b3f63b74",
    "tags": []
   },
   "outputs": [],
   "source": [
    "#fill NAs \n",
    "means_train = X_train.mean()\n",
    "X_train = X_train.fillna(means_train)\n",
    "X_test = X_test.fillna(means_train)\n",
    "\n",
    "#minmaxscaler on X_values\n",
    "minmax = MinMaxScaler()\n",
    "X_train = minmax.fit_transform(X_train)\n",
    "X_test = minmax.transform(X_test)\n",
    "\n",
    "xg_reg = xgb.XGBClassifier(objective ='binary:logistic', \n",
    "                           subsample = 0.5, \n",
    "                          n_estimators = 290, \n",
    "                          min_child_weight = 5, \n",
    "                          max_depth = 8, \n",
    "                          learning_rate = 0.097, \n",
    "                          gamma = 1.44, \n",
    "                          colsample_bytree = 0.3, \n",
    "                          colsample_bylevel = 0)"
   ]
  },
  {
   "cell_type": "code",
   "execution_count": null,
   "id": "25c4aa1d-60a0-470e-aea3-48d6c1d5515e",
   "metadata": {
    "id": "25c4aa1d-60a0-470e-aea3-48d6c1d5515e"
   },
   "outputs": [],
   "source": [
    "yscale = StandardScaler()\n",
    "y_train_trans = yscale.fit_transform(np.array(y_train).reshape(len(y_train), 1))"
   ]
  },
  {
   "cell_type": "code",
   "execution_count": null,
   "id": "c41e2ec5-5a51-4a9b-ae23-ebb639334bd7",
   "metadata": {
    "id": "c41e2ec5-5a51-4a9b-ae23-ebb639334bd7",
    "outputId": "81bc3dfb-b02c-4121-85c9-f837711c4bc6",
    "tags": []
   },
   "outputs": [
    {
     "name": "stderr",
     "output_type": "stream",
     "text": [
      "The use of label encoder in XGBClassifier is deprecated and will be removed in a future release. To remove this warning, do the following: 1) Pass option use_label_encoder=False when constructing XGBClassifier object; and 2) Encode your labels (y) as integers starting with 0, i.e. 0, 1, 2, ..., [num_class - 1].\n",
      "A column-vector y was passed when a 1d array was expected. Please change the shape of y to (n_samples, ), for example using ravel().\n"
     ]
    },
    {
     "name": "stdout",
     "output_type": "stream",
     "text": [
      "[02:07:16] WARNING: ../src/learner.cc:1061: Starting in XGBoost 1.3.0, the default evaluation metric used with the objective 'binary:logistic' was changed from 'error' to 'logloss'. Explicitly set eval_metric if you'd like to restore the old behavior.\n"
     ]
    },
    {
     "data": {
      "text/plain": [
       "XGBClassifier(base_score=0.5, booster='gbtree', colsample_bylevel=0,\n",
       "              colsample_bynode=1, colsample_bytree=0.3, gamma=1.44, gpu_id=-1,\n",
       "              importance_type='gain', interaction_constraints='',\n",
       "              learning_rate=0.097, max_delta_step=0, max_depth=8,\n",
       "              min_child_weight=5, missing=nan, monotone_constraints='()',\n",
       "              n_estimators=290, n_jobs=8, num_parallel_tree=1, random_state=0,\n",
       "              reg_alpha=0, reg_lambda=1, scale_pos_weight=1, subsample=0.5,\n",
       "              tree_method='exact', validate_parameters=1, verbosity=None)"
      ]
     },
     "metadata": {},
     "output_type": "display_data"
    }
   ],
   "source": [
    "xg_reg.fit(X_train, y_train_trans)"
   ]
  },
  {
   "cell_type": "code",
   "execution_count": null,
   "id": "e7e08fc8-018e-4a2c-8971-40b1b42bec83",
   "metadata": {
    "id": "e7e08fc8-018e-4a2c-8971-40b1b42bec83"
   },
   "outputs": [],
   "source": [
    "mybooster = xg_reg.get_booster()    "
   ]
  },
  {
   "cell_type": "code",
   "execution_count": null,
   "id": "a80a8b3f-2038-40fc-8b74-a080d63efbec",
   "metadata": {
    "id": "a80a8b3f-2038-40fc-8b74-a080d63efbec"
   },
   "outputs": [],
   "source": [
    "model_bytearray = mybooster.save_raw()[4:]"
   ]
  },
  {
   "cell_type": "code",
   "execution_count": null,
   "id": "81f37952-e481-4b5f-9860-28951fe1f097",
   "metadata": {
    "id": "81f37952-e481-4b5f-9860-28951fe1f097"
   },
   "outputs": [],
   "source": [
    "def myfun(self=None):\n",
    "    return model_bytearray\n",
    "mybooster.save_raw = myfun"
   ]
  },
  {
   "cell_type": "code",
   "execution_count": null,
   "id": "3005b46f-8268-4262-abf1-902ed0aeaf66",
   "metadata": {
    "id": "3005b46f-8268-4262-abf1-902ed0aeaf66",
    "outputId": "420c3c36-dde8-457a-88d5-2a9cfb2dc1f0"
   },
   "outputs": [
    {
     "name": "stderr",
     "output_type": "stream",
     "text": [
      "Setting feature_perturbation = \"tree_path_dependent\" because no background data was given.\n"
     ]
    }
   ],
   "source": [
    "shap_ex = shap.TreeExplainer(mybooster)"
   ]
  },
  {
   "cell_type": "code",
   "execution_count": null,
   "id": "22d9efca-7ffe-4c39-9ab0-85762228902a",
   "metadata": {
    "id": "22d9efca-7ffe-4c39-9ab0-85762228902a",
    "outputId": "cc9eb1ad-b838-42d2-c383-c5ac9b66150d"
   },
   "outputs": [
    {
     "data": {
      "image/png": "[encoded data removed]",
      "text/plain": [
       "<Figure size 576x338.4 with 2 Axes>"
      ]
     },
     "metadata": {},
     "output_type": "display_data"
    }
   ],
   "source": [
    "shap_values = shap_ex.shap_values(X_test)\n",
    "shap.summary_plot(shap_values, X_test, feature_names=list(background), max_display=8)"
   ]
  },
  {
   "cell_type": "markdown",
   "id": "cf500606-175c-421f-a727-8a40280f4566",
   "metadata": {
    "id": "cf500606-175c-421f-a727-8a40280f4566"
   },
   "source": [
    "# JobTraining"
   ]
  },
  {
   "cell_type": "markdown",
   "id": "f28166ff-12ae-4fea-8062-9e3c7f313ce0",
   "metadata": {
    "id": "f28166ff-12ae-4fea-8062-9e3c7f313ce0"
   },
   "source": [
    "## Elastic"
   ]
  },
  {
   "cell_type": "code",
   "execution_count": null,
   "id": "4bfbdb07-423b-48b4-9abc-abf4ff8a1471",
   "metadata": {
    "id": "4bfbdb07-423b-48b4-9abc-abf4ff8a1471"
   },
   "outputs": [],
   "source": [
    "model = joblib.load('models/jobtrain_logr_200.pkl')"
   ]
  },
  {
   "cell_type": "code",
   "execution_count": null,
   "id": "e577ce69-21f1-48bd-8ea8-4a1ab4cd20d7",
   "metadata": {
    "id": "e577ce69-21f1-48bd-8ea8-4a1ab4cd20d7",
    "outputId": "61769cce-2ebe-4478-fc16-64d43cf15036",
    "tags": []
   },
   "outputs": [
    {
     "data": {
      "text/plain": [
       "{'sgd__l1_ratio': 0.66,\n",
       " 'sgd__alpha': 1.9200000000000002,\n",
       " 'normalize': RobustScaler()}"
      ]
     },
     "metadata": {},
     "output_type": "display_data"
    }
   ],
   "source": [
    "model.best_params_"
   ]
  },
  {
   "cell_type": "code",
   "execution_count": null,
   "id": "3aca9ebb-a4eb-4041-8b35-8ab430224152",
   "metadata": {
    "id": "3aca9ebb-a4eb-4041-8b35-8ab430224152"
   },
   "outputs": [],
   "source": [
    "variable = 'jobTraining'\n",
    "X_train = background.loc[train.index]\n",
    "y_train = train[variable].dropna()\n",
    "X_train = X_train.loc[y_train.index.values]"
   ]
  },
  {
   "cell_type": "code",
   "execution_count": null,
   "id": "eb015cd7-3d9b-45db-9183-3cb7ae8cdbad",
   "metadata": {
    "id": "eb015cd7-3d9b-45db-9183-3cb7ae8cdbad"
   },
   "outputs": [],
   "source": [
    "sgd = SGDClassifier(loss='log', \n",
    "                    penalty='elasticnet', \n",
    "                    max_iter=10000, \n",
    "                    alpha=1.92, \n",
    "                    l1_ratio=0.66)\n",
    "pipeline = Pipeline(steps=[('impute', SimpleImputer()),\n",
    "                           ('sampling', SMOTE()),\n",
    "                           ('normalize', RobustScaler()), \n",
    "                           ('sgd', sgd)])\n"
   ]
  },
  {
   "cell_type": "code",
   "execution_count": null,
   "id": "9ddec2ae-08be-42cf-8284-68a1264dba03",
   "metadata": {
    "id": "9ddec2ae-08be-42cf-8284-68a1264dba03"
   },
   "outputs": [],
   "source": [
    "logistic = pipeline.fit(X_train, y_train)"
   ]
  },
  {
   "cell_type": "code",
   "execution_count": null,
   "id": "0fbab32a-a754-4fe6-8b8e-b5defd09330e",
   "metadata": {
    "id": "0fbab32a-a754-4fe6-8b8e-b5defd09330e"
   },
   "outputs": [],
   "source": [
    "variable = 'jobTraining'\n",
    "X_test = background.loc[test.index]\n",
    "y_test = test[variable].dropna()\n",
    "X_test = X_test.loc[y_test.index.values]"
   ]
  },
  {
   "cell_type": "code",
   "execution_count": null,
   "id": "3b8f406b-170d-4a18-a0f4-59db20c04fd5",
   "metadata": {
    "id": "3b8f406b-170d-4a18-a0f4-59db20c04fd5"
   },
   "outputs": [],
   "source": [
    "y_test = np.array(y_test * 1).astype(int)"
   ]
  },
  {
   "cell_type": "code",
   "execution_count": null,
   "id": "b47f7be8-2682-407d-b294-b42b70efca25",
   "metadata": {
    "id": "b47f7be8-2682-407d-b294-b42b70efca25",
    "outputId": "33e94678-1d88-45f7-acd2-1fd04926830e"
   },
   "outputs": [
    {
     "data": {
      "text/plain": [
       "1104"
      ]
     },
     "metadata": {},
     "output_type": "display_data"
    }
   ],
   "source": [
    "len(y_test)"
   ]
  },
  {
   "cell_type": "code",
   "execution_count": null,
   "id": "309ccde2-6e78-4020-bea6-7c5239368788",
   "metadata": {
    "id": "309ccde2-6e78-4020-bea6-7c5239368788"
   },
   "outputs": [],
   "source": [
    "jobtrain_elastic_pred = logistic.predict_proba(X_test)[:, 1]"
   ]
  },
  {
   "cell_type": "code",
   "execution_count": null,
   "id": "d8a23e68-beac-43d8-a71b-97b2596a9e33",
   "metadata": {
    "id": "d8a23e68-beac-43d8-a71b-97b2596a9e33",
    "outputId": "2f8221fa-6438-437d-c6a5-5bedfed95ee5"
   },
   "outputs": [
    {
     "data": {
      "text/plain": [
       "0.2252425795452132"
      ]
     },
     "metadata": {},
     "output_type": "display_data"
    }
   ],
   "source": [
    "brier_score_loss(y_test,jobtrain_elastic_pred)"
   ]
  },
  {
   "cell_type": "code",
   "execution_count": null,
   "id": "3cad25b2-0419-4796-bb7e-4dd65f9d96fd",
   "metadata": {
    "id": "3cad25b2-0419-4796-bb7e-4dd65f9d96fd"
   },
   "outputs": [],
   "source": [
    "binary_label = (jobtrain_elastic_pred >= 0.5) * 1"
   ]
  },
  {
   "cell_type": "code",
   "execution_count": null,
   "id": "d8735688-9c4f-4e5d-8a73-c4a3935e68be",
   "metadata": {
    "id": "d8735688-9c4f-4e5d-8a73-c4a3935e68be",
    "outputId": "32169756-7c7e-4ceb-a0c1-2fc5b08abd28"
   },
   "outputs": [
    {
     "data": {
      "text/plain": [
       "0.2952029520295203"
      ]
     },
     "metadata": {},
     "output_type": "display_data"
    }
   ],
   "source": [
    "recall_score(y_test, binary_label)"
   ]
  },
  {
   "cell_type": "code",
   "execution_count": null,
   "id": "8783b835-74a2-4763-bf4b-ccab4ad08114",
   "metadata": {
    "id": "8783b835-74a2-4763-bf4b-ccab4ad08114",
    "outputId": "7c6ecfc7-c293-482c-def8-3aa023b6f47f"
   },
   "outputs": [
    {
     "data": {
      "text/plain": [
       "0.3292181069958848"
      ]
     },
     "metadata": {},
     "output_type": "display_data"
    }
   ],
   "source": [
    "precision_score(y_test, binary_label)"
   ]
  },
  {
   "cell_type": "markdown",
   "id": "1650c278-724b-4360-8957-04e64e2364b8",
   "metadata": {
    "id": "1650c278-724b-4360-8957-04e64e2364b8"
   },
   "source": [
    "## Random Forest"
   ]
  },
  {
   "cell_type": "code",
   "execution_count": null,
   "id": "924bd6df-612e-47c9-aadc-2e1767e62bd0",
   "metadata": {
    "id": "924bd6df-612e-47c9-aadc-2e1767e62bd0"
   },
   "outputs": [],
   "source": [
    "model = joblib.load('models/jobtrain_rf_new200_.pkl')"
   ]
  },
  {
   "cell_type": "code",
   "execution_count": null,
   "id": "9cfa9077-9ba6-4b8c-bacd-5dc9b938fdd0",
   "metadata": {
    "id": "9cfa9077-9ba6-4b8c-bacd-5dc9b938fdd0",
    "outputId": "93673153-af08-4111-cee9-2351d578351f"
   },
   "outputs": [
    {
     "data": {
      "text/plain": [
       "{'sel__k': 11710,\n",
       " 'randomforest__n_estimators': 150,\n",
       " 'randomforest__min_samples_split': 2,\n",
       " 'randomforest__min_samples_leaf': 2,\n",
       " 'randomforest__max_features': 'auto',\n",
       " 'randomforest__max_depth': 15,\n",
       " 'normalize': StandardScaler()}"
      ]
     },
     "metadata": {},
     "output_type": "display_data"
    }
   ],
   "source": [
    "model.best_params_"
   ]
  },
  {
   "cell_type": "code",
   "execution_count": null,
   "id": "c9360c57-3576-4891-af1f-38bb89bf9c0a",
   "metadata": {
    "id": "c9360c57-3576-4891-af1f-38bb89bf9c0a"
   },
   "outputs": [],
   "source": [
    "variable = 'layoff'\n",
    "X_train = background.loc[train.index]\n",
    "y_train = train[variable].dropna()\n",
    "X_train = X_train.loc[y_train.index.values]"
   ]
  },
  {
   "cell_type": "code",
   "execution_count": null,
   "id": "a684f213-7579-495c-acb9-ed9f3338a08d",
   "metadata": {
    "id": "a684f213-7579-495c-acb9-ed9f3338a08d"
   },
   "outputs": [],
   "source": [
    "rfc = RandomForestClassifier(random_state=0, \n",
    "                            n_estimators = 132, \n",
    "                            min_samples_split = 2, \n",
    "                            min_samples_leaf = 1, \n",
    "                            max_features = 'auto', \n",
    "                            max_depth = 25)"
   ]
  },
  {
   "cell_type": "code",
   "execution_count": null,
   "id": "5e25c9b1-e4c4-4265-831e-df99111ada75",
   "metadata": {
    "id": "5e25c9b1-e4c4-4265-831e-df99111ada75"
   },
   "outputs": [],
   "source": [
    "pipeline = Pipeline(steps=[('impute', SimpleImputer()),\n",
    "                           ('sampling', SMOTE()), \n",
    "                           ('normalize', StandardScaler()), \n",
    "                           ('randomforest', rfc)])"
   ]
  },
  {
   "cell_type": "code",
   "execution_count": null,
   "id": "e1b674f5-1a63-4416-99a4-7555811b46cc",
   "metadata": {
    "id": "e1b674f5-1a63-4416-99a4-7555811b46cc"
   },
   "outputs": [],
   "source": [
    "rf = pipeline.fit(X_train, y_train)"
   ]
  },
  {
   "cell_type": "code",
   "execution_count": null,
   "id": "f6efb253-9bb2-4adc-9f86-63e51c3b4810",
   "metadata": {
    "id": "f6efb253-9bb2-4adc-9f86-63e51c3b4810"
   },
   "outputs": [],
   "source": [
    "X_test = background.loc[test.index]\n",
    "y_test = test[variable].dropna()\n",
    "X_test = X_test.loc[y_test.index.values]"
   ]
  },
  {
   "cell_type": "code",
   "execution_count": null,
   "id": "0774e1e4-368f-45e3-a214-912cd11623c8",
   "metadata": {
    "id": "0774e1e4-368f-45e3-a214-912cd11623c8"
   },
   "outputs": [],
   "source": [
    "y_test = np.array(y_test * 1).astype(int)"
   ]
  },
  {
   "cell_type": "code",
   "execution_count": null,
   "id": "b959dc9a-2cd6-4f78-a28a-71f42fe596d8",
   "metadata": {
    "id": "b959dc9a-2cd6-4f78-a28a-71f42fe596d8"
   },
   "outputs": [],
   "source": [
    "layoff_rf_pred = rf.predict_proba(X_test)[:, 1]"
   ]
  },
  {
   "cell_type": "code",
   "execution_count": null,
   "id": "656d1127-e791-46f5-b6da-fedc26456933",
   "metadata": {
    "id": "656d1127-e791-46f5-b6da-fedc26456933",
    "outputId": "fb84f24a-72bb-42f2-9730-f18a6bdfd311"
   },
   "outputs": [
    {
     "data": {
      "text/plain": [
       "0.16921346649667565"
      ]
     },
     "metadata": {},
     "output_type": "display_data"
    }
   ],
   "source": [
    "brier_score_loss(y_test,layoff_rf_pred)"
   ]
  },
  {
   "cell_type": "code",
   "execution_count": null,
   "id": "4e8a876a-c884-454b-9cdd-5cce07c4ca9d",
   "metadata": {
    "id": "4e8a876a-c884-454b-9cdd-5cce07c4ca9d"
   },
   "outputs": [],
   "source": [
    "binary_label = (layoff_rf_pred >= 0.5) * 1"
   ]
  },
  {
   "cell_type": "code",
   "execution_count": null,
   "id": "96dc8294-5026-4cf7-a50f-797d215e275a",
   "metadata": {
    "id": "96dc8294-5026-4cf7-a50f-797d215e275a",
    "outputId": "420d82b6-20e5-4981-d599-db5c5a0e3f46"
   },
   "outputs": [
    {
     "data": {
      "text/plain": [
       "0.0"
      ]
     },
     "metadata": {},
     "output_type": "display_data"
    }
   ],
   "source": [
    "recall_score(y_test, binary_label)"
   ]
  },
  {
   "cell_type": "code",
   "execution_count": null,
   "id": "710a3ba8-eca3-4b94-b5fa-bbb33ad7beb6",
   "metadata": {
    "id": "710a3ba8-eca3-4b94-b5fa-bbb33ad7beb6",
    "outputId": "00c026f6-f783-4efb-ad63-c9b0eb89b7d6"
   },
   "outputs": [
    {
     "data": {
      "text/plain": [
       "0.0"
      ]
     },
     "metadata": {},
     "output_type": "display_data"
    }
   ],
   "source": [
    "precision_score(y_test, binary_label)"
   ]
  },
  {
   "cell_type": "code",
   "execution_count": null,
   "id": "859d3d92-b54c-4b63-995f-46d0a7c5d6d9",
   "metadata": {
    "id": "859d3d92-b54c-4b63-995f-46d0a7c5d6d9"
   },
   "outputs": [],
   "source": [
    "import shap"
   ]
  },
  {
   "cell_type": "code",
   "execution_count": null,
   "id": "42dd5a00-4df2-4090-a5f4-dd6bd1fe0ee2",
   "metadata": {
    "id": "42dd5a00-4df2-4090-a5f4-dd6bd1fe0ee2",
    "tags": []
   },
   "outputs": [],
   "source": [
    "variable = 'jobTraining'\n",
    "X_train = background.loc[train.index]\n",
    "y_train = train[variable].dropna()\n",
    "X_train = X_train.loc[y_train.index.values]"
   ]
  },
  {
   "cell_type": "code",
   "execution_count": null,
   "id": "e79b9773-ad2c-487a-95a0-574546fc72ab",
   "metadata": {
    "id": "e79b9773-ad2c-487a-95a0-574546fc72ab"
   },
   "outputs": [],
   "source": [
    "X_test = background.loc[test.index]\n",
    "y_test = test[variable].dropna()\n",
    "X_test = X_test.loc[y_test.index.values]"
   ]
  },
  {
   "cell_type": "code",
   "execution_count": null,
   "id": "c1ca3d6b-4c57-4272-8c86-5865f28e937d",
   "metadata": {
    "id": "c1ca3d6b-4c57-4272-8c86-5865f28e937d",
    "tags": []
   },
   "outputs": [],
   "source": [
    "#fill NAs \n",
    "means_train = X_train.mean()\n",
    "X_train = X_train.fillna(means_train)\n",
    "X_test = X_test.fillna(means_train)\n",
    "\n",
    "\n",
    "#minmaxscaler on X_values\n",
    "robust = RobustScaler()\n",
    "X_train = robust.fit_transform(X_train)\n",
    "X_test = robust.transform(X_test)\n",
    "\n",
    "rfc = RandomForestClassifier(random_state=0, \n",
    "                            n_estimators = 132, \n",
    "                            min_samples_split = 2, \n",
    "                            min_samples_leaf = 1, \n",
    "                            max_features = 'auto', \n",
    "                            max_depth = 25)"
   ]
  },
  {
   "cell_type": "code",
   "execution_count": null,
   "id": "c7ebcdae-ca77-49be-bfac-465512fbe3e3",
   "metadata": {
    "id": "c7ebcdae-ca77-49be-bfac-465512fbe3e3"
   },
   "outputs": [],
   "source": [
    "yscale = StandardScaler()\n",
    "y_train_trans = yscale.fit_transform(np.array(y_train).reshape(len(y_train), 1))"
   ]
  },
  {
   "cell_type": "code",
   "execution_count": null,
   "id": "2e4e25d7-16c0-46f4-91ab-226e689c2ca6",
   "metadata": {
    "id": "2e4e25d7-16c0-46f4-91ab-226e689c2ca6",
    "outputId": "671a7d33-7d6b-49ca-c17e-1fbb89f9fca1",
    "tags": []
   },
   "outputs": [
    {
     "name": "stderr",
     "output_type": "stream",
     "text": [
      "A column-vector y was passed when a 1d array was expected. Please change the shape of y to (n_samples,), for example using ravel().\n"
     ]
    },
    {
     "data": {
      "text/plain": [
       "RandomForestRegressor(max_depth=16, min_samples_leaf=8, min_samples_split=8,\n",
       "                      n_estimators=238, random_state=0)"
      ]
     },
     "metadata": {},
     "output_type": "display_data"
    }
   ],
   "source": [
    "rf.fit(X_train, y_train_trans)"
   ]
  },
  {
   "cell_type": "code",
   "execution_count": null,
   "id": "57a975f4-43f7-4276-8341-f6d62704a7a1",
   "metadata": {
    "id": "57a975f4-43f7-4276-8341-f6d62704a7a1",
    "outputId": "79700d6a-b374-4158-be7a-097fb6cc10ac"
   },
   "outputs": [
    {
     "name": "stderr",
     "output_type": "stream",
     "text": [
      "Setting feature_perturbation = \"tree_path_dependent\" because no background data was given.\n"
     ]
    }
   ],
   "source": [
    "shap_ex = shap.TreeExplainer(rf)"
   ]
  },
  {
   "cell_type": "code",
   "execution_count": null,
   "id": "469e725b-6a3a-4cd6-8ced-c93394e2a2d2",
   "metadata": {
    "id": "469e725b-6a3a-4cd6-8ced-c93394e2a2d2",
    "outputId": "b32276f0-95b9-4eb0-be07-8ebe044d9a92"
   },
   "outputs": [
    {
     "data": {
      "image/png": "[encoded data removed]",
      "text/plain": [
       "<Figure size 576x338.4 with 2 Axes>"
      ]
     },
     "metadata": {},
     "output_type": "display_data"
    }
   ],
   "source": [
    "shap_values = shap_ex.shap_values(X_test)\n",
    "shap.summary_plot(shap_values, X_test, feature_names=list(background), max_display=8)"
   ]
  },
  {
   "cell_type": "markdown",
   "id": "e5738ac8-e252-490a-9e08-bbce522a55be",
   "metadata": {
    "id": "e5738ac8-e252-490a-9e08-bbce522a55be"
   },
   "source": [
    "## Gradient Boosting"
   ]
  },
  {
   "cell_type": "code",
   "execution_count": null,
   "id": "949e10e9-d28d-43fb-9c0c-13b09a67d3e6",
   "metadata": {
    "id": "949e10e9-d28d-43fb-9c0c-13b09a67d3e6",
    "tags": []
   },
   "outputs": [],
   "source": [
    "model = joblib.load('models/jobtrain_xgb_200.pkl')"
   ]
  },
  {
   "cell_type": "code",
   "execution_count": null,
   "id": "160944cf-df8f-47e9-8c67-fd6f493b1ac6",
   "metadata": {
    "id": "160944cf-df8f-47e9-8c67-fd6f493b1ac6",
    "outputId": "1661e640-c223-4ac6-b701-4eb5731ecbfa",
    "tags": []
   },
   "outputs": [
    {
     "data": {
      "text/plain": [
       "{'xgboost__subsample': 0.7000000000000002,\n",
       " 'xgboost__n_estimators': 130,\n",
       " 'xgboost__min_child_weight': 1,\n",
       " 'xgboost__max_depth': 4,\n",
       " 'xgboost__learning_rate': 0.035500000000000025,\n",
       " 'xgboost__gamma': 1.95,\n",
       " 'xgboost__colsample_bytree': 0.6000000000000001,\n",
       " 'xgboost__colsample_bylevel': 1.0,\n",
       " 'impute__strategy': 'median',\n",
       " 'feat_select__k': 2110}"
      ]
     },
     "metadata": {},
     "output_type": "display_data"
    }
   ],
   "source": [
    "model.best_params_"
   ]
  },
  {
   "cell_type": "code",
   "execution_count": null,
   "id": "4262fa99-ad90-4178-8902-60b4c7772975",
   "metadata": {
    "id": "4262fa99-ad90-4178-8902-60b4c7772975",
    "tags": []
   },
   "outputs": [],
   "source": [
    "variable = 'jobTraining'\n",
    "X_train = background.loc[train.index]\n",
    "y_train = train[variable].dropna()\n",
    "X_train = X_train.loc[y_train.index.values]"
   ]
  },
  {
   "cell_type": "code",
   "execution_count": null,
   "id": "59e34284-11fb-4adf-9725-468856c1f7d5",
   "metadata": {
    "id": "59e34284-11fb-4adf-9725-468856c1f7d5",
    "tags": []
   },
   "outputs": [],
   "source": [
    "\n",
    "xg_reg = xgb.XGBClassifier(objective ='binary:logistic', \n",
    "                           subsample = 0.7, \n",
    "                          n_estimators = 130, \n",
    "                          min_child_weight = 1, \n",
    "                          max_depth = 4, \n",
    "                          learning_rate = 0.03, \n",
    "                          gamma = 1.95, \n",
    "                          colsample_bytree = 0.6, \n",
    "                          colsample_bylevel = 1)\n",
    "\n",
    "pipeline = Pipeline(steps=[('impute', SimpleImputer(strategy = 'median')),\n",
    "                           ('normalize', MinMaxScaler()), \n",
    "                           ('feat_select', SelectKBest(f_classif, k = 2210)),\n",
    "                           ('xgboost', xg_reg)])\n",
    "\n"
   ]
  },
  {
   "cell_type": "code",
   "execution_count": null,
   "id": "5abfad74-73f3-4ce1-a917-94b6dc901dd6",
   "metadata": {
    "id": "5abfad74-73f3-4ce1-a917-94b6dc901dd6",
    "outputId": "1c787cc1-1aa3-4f54-d128-8643a64de7c8",
    "tags": []
   },
   "outputs": [
    {
     "name": "stderr",
     "output_type": "stream",
     "text": [
      "/opt/anaconda3/lib/python3.8/site-packages/sklearn/feature_selection/_univariate_selection.py:114: UserWarning: Features [  809   813   834 ... 29363 29383 29423] are constant.\n",
      "  warnings.warn(\"Features %s are constant.\" % constant_features_idx,\n",
      "/opt/anaconda3/lib/python3.8/site-packages/sklearn/feature_selection/_univariate_selection.py:116: RuntimeWarning: invalid value encountered in true_divide\n",
      "  f = msb / msw\n",
      "/opt/anaconda3/lib/python3.8/site-packages/xgboost/sklearn.py:888: UserWarning: The use of label encoder in XGBClassifier is deprecated and will be removed in a future release. To remove this warning, do the following: 1) Pass option use_label_encoder=False when constructing XGBClassifier object; and 2) Encode your labels (y) as integers starting with 0, i.e. 0, 1, 2, ..., [num_class - 1].\n",
      "  warnings.warn(label_encoder_deprecation_msg, UserWarning)\n"
     ]
    },
    {
     "name": "stdout",
     "output_type": "stream",
     "text": [
      "[21:49:24] WARNING: ../src/learner.cc:1061: Starting in XGBoost 1.3.0, the default evaluation metric used with the objective 'binary:logistic' was changed from 'error' to 'logloss'. Explicitly set eval_metric if you'd like to restore the old behavior.\n"
     ]
    }
   ],
   "source": [
    "boosting = pipeline.fit(X_train, y_train)"
   ]
  },
  {
   "cell_type": "code",
   "execution_count": null,
   "id": "fe15ee2b-dc06-4019-8add-5ee4e7b08a82",
   "metadata": {
    "id": "fe15ee2b-dc06-4019-8add-5ee4e7b08a82",
    "tags": []
   },
   "outputs": [],
   "source": [
    "X_test = background.loc[test.index]\n",
    "y_test = test[variable].dropna()\n",
    "X_test = X_test.loc[y_test.index.values]"
   ]
  },
  {
   "cell_type": "code",
   "execution_count": null,
   "id": "8b21919d-2fb0-458c-8409-593af9cbc566",
   "metadata": {
    "id": "8b21919d-2fb0-458c-8409-593af9cbc566",
    "tags": []
   },
   "outputs": [],
   "source": [
    "y_test = np.array(y_test * 1).astype(int)"
   ]
  },
  {
   "cell_type": "code",
   "execution_count": null,
   "id": "caac31e4-f910-483e-8f81-1830f8d4714d",
   "metadata": {
    "id": "caac31e4-f910-483e-8f81-1830f8d4714d"
   },
   "outputs": [],
   "source": [
    "jobtraining_boosting_pred = boosting.predict_proba(X_test)[:, 1]"
   ]
  },
  {
   "cell_type": "code",
   "execution_count": null,
   "id": "eba3f5c6-9655-4456-be5b-42de377dab40",
   "metadata": {
    "id": "eba3f5c6-9655-4456-be5b-42de377dab40",
    "outputId": "0a28756c-8641-4cb0-a090-77fb15ee6bf7"
   },
   "outputs": [
    {
     "data": {
      "text/plain": [
       "0.17748070145038836"
      ]
     },
     "metadata": {},
     "output_type": "display_data"
    }
   ],
   "source": [
    "brier_score_loss(y_test, jobtraining_boosting_pred)"
   ]
  },
  {
   "cell_type": "code",
   "execution_count": null,
   "id": "2c128aa1-e494-437f-92f7-75919bd1fd18",
   "metadata": {
    "id": "2c128aa1-e494-437f-92f7-75919bd1fd18"
   },
   "outputs": [],
   "source": [
    "binary_label = (jobtraining_boosting_pred >= 0.5) * 1"
   ]
  },
  {
   "cell_type": "code",
   "execution_count": null,
   "id": "bfde8b9d-3422-45b7-a242-c62ec0aa0758",
   "metadata": {
    "id": "bfde8b9d-3422-45b7-a242-c62ec0aa0758",
    "outputId": "669fc46f-e2c9-4b8a-89fa-2b9b02d1ab25"
   },
   "outputs": [
    {
     "data": {
      "text/plain": [
       "0.05904059040590406"
      ]
     },
     "metadata": {},
     "output_type": "display_data"
    }
   ],
   "source": [
    "recall_score(y_test, binary_label)"
   ]
  },
  {
   "cell_type": "code",
   "execution_count": null,
   "id": "693867c4-bb23-48bf-adb6-ebdc544ed507",
   "metadata": {
    "id": "693867c4-bb23-48bf-adb6-ebdc544ed507",
    "outputId": "17938d4d-16b2-4816-f44f-64bc19f6bb12"
   },
   "outputs": [
    {
     "data": {
      "text/plain": [
       "0.48484848484848486"
      ]
     },
     "metadata": {},
     "output_type": "display_data"
    }
   ],
   "source": [
    "precision_score(y_test, binary_label)"
   ]
  }
 ],
 "metadata": {
  "language_info": {
   "name": "python"
  },
  "orig_nbformat": 4
 },
 "nbformat": 4,
 "nbformat_minor": 2
}
