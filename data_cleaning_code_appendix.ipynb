{
  "nbformat": 4,
  "nbformat_minor": 5,
  "metadata": {
    "kernelspec": {
      "display_name": "Python 3",
      "language": "python",
      "name": "python3"
    },
    "language_info": {
      "codemirror_mode": {
        "name": "ipython",
        "version": 3
      },
      "file_extension": ".py",
      "mimetype": "text/x-python",
      "name": "python",
      "nbconvert_exporter": "python",
      "pygments_lexer": "ipython3",
      "version": "3.9.4"
    },
    "colab": {
      "name": "data_cleaning_code_appendix.ipynb",
      "provenance": []
    }
  },
  "cells": [
    {
      "cell_type": "code",
      "metadata": {
        "id": "4cf76e56-d166-4bf8-a44c-e4d78f2b200a"
      },
      "source": [
        "import  numpy as np\n",
        "import pandas as pd\n",
        "import statsmodels.api as sm\n",
        "from sklearn.preprocessing import StandardScaler\n",
        "from sklearn.linear_model import Lasso\n",
        "from sklearn.linear_model import LogisticRegression\n",
        "from sklearn.linear_model import RidgeCV\n",
        "from sklearn.linear_model import ElasticNet\n",
        "from sklearn.preprocessing import MinMaxScaler\n",
        "from sklearn.model_selection import GridSearchCV\n",
        "import xgboost as xgb\n",
        "from sklearn.compose import TransformedTargetRegressor\n",
        "from sklearn.model_selection import RandomizedSearchCV\n",
        "from sklearn.model_selection import PredefinedSplit\n",
        "import hypopt\n",
        "import seaborn as sns\n",
        "from sklearn.impute import SimpleImputer\n",
        "from sklearn.pipeline import Pipeline\n",
        "from sklearn.pipeline import make_pipeline\n",
        "from sklearn.preprocessing import QuantileTransformer, quantile_transform, StandardScaler\n",
        "from sklearn.ensemble import RandomForestRegressor\n",
        "\n",
        "\n",
        "from sklearn.experimental import enable_iterative_imputer\n",
        "from sklearn.impute import IterativeImputer\n",
        "\n",
        "from sklearn.metrics import median_absolute_error, r2_score\n",
        "\n",
        "from sklearn.model_selection import train_test_split\n",
        "\n",
        "from matplotlib import pyplot as plt\n",
        "%matplotlib inline"
      ],
      "id": "4cf76e56-d166-4bf8-a44c-e4d78f2b200a",
      "execution_count": null,
      "outputs": []
    },
    {
      "cell_type": "markdown",
      "metadata": {
        "id": "54214390-63a5-4ff2-8f13-1bd25e057f6e"
      },
      "source": [
        "## Load the data\n",
        "\n",
        "Let's load the data and have a look at it (make sure you copy the folder FFChallenge_v5 in your working directory). "
      ],
      "id": "54214390-63a5-4ff2-8f13-1bd25e057f6e"
    },
    {
      "cell_type": "code",
      "metadata": {
        "id": "3bb34733-9bb6-4584-9034-ed0dd2bc7363"
      },
      "source": [
        "# background.csv contains 4,242 rows (one per family) and 13,027 columns\n",
        "#                index by challengeID: A unique numeric identifier for each child.\n",
        "#                features: 13,026 background variables asked from birth to age 9, \n",
        "#                which you may use in building your model.\n",
        "background = pd.read_csv('FFChallenge_v5/background.csv', sep=',', header=0,index_col=0)\n",
        "\n",
        "# train.csv contains 2,121 rows (one per child in the training set) and 7 columns.\n",
        "train = pd.read_csv('FFChallenge_v5/train.csv', sep=',', header=0, index_col=0)\n",
        "\n",
        "#constantVariables.txt gives the column names of variables that are constant in the data.\n",
        "#We recommend that the first step in any analysis be to remove the variables that are constant.\n",
        "constantVariables = pd.read_csv('FFChallenge_v5/constantVariables.txt',header=None, index_col=0)"
      ],
      "id": "3bb34733-9bb6-4584-9034-ed0dd2bc7363",
      "execution_count": null,
      "outputs": []
    },
    {
      "cell_type": "code",
      "metadata": {
        "id": "962a38d5-ae0f-4885-9ce4-c7b27942fde2"
      },
      "source": [
        "# Drop constant columns\n",
        "background = background.drop(constantVariables.index.values, axis = 1)"
      ],
      "id": "962a38d5-ae0f-4885-9ce4-c7b27942fde2",
      "execution_count": null,
      "outputs": []
    },
    {
      "cell_type": "code",
      "metadata": {
        "id": "d1dc1b9c-36d3-43d2-9d32-753321fda108"
      },
      "source": [
        "# Remove all columns with more than 80% NAs\n",
        "mask = (background.isna().sum(axis=0)/len(background)<0.8)\n",
        "background = background[mask[mask].index]"
      ],
      "id": "d1dc1b9c-36d3-43d2-9d32-753321fda108",
      "execution_count": null,
      "outputs": []
    },
    {
      "cell_type": "code",
      "metadata": {
        "id": "7c0f447b-843a-49a4-9618-0b21675b2cc7"
      },
      "source": [
        "#get all negative values except -1 (refuse to answer)\n",
        "negs = [-9, -8, -7, -6, -5, -4, -3, 'Other', 'Missing']"
      ],
      "id": "7c0f447b-843a-49a4-9618-0b21675b2cc7",
      "execution_count": null,
      "outputs": []
    },
    {
      "cell_type": "code",
      "metadata": {
        "id": "c44e6a6e-9af5-4643-9fb2-c791e38f00b7"
      },
      "source": [
        "#if item in list of possible negatives (other than -1 (refusal)), group them into -10\n",
        "i=0\n",
        "for col in background.columns:\n",
        "    background[col] = [-10 if item in negs else item for item in background[col]]\n",
        "    i+=1"
      ],
      "id": "c44e6a6e-9af5-4643-9fb2-c791e38f00b7",
      "execution_count": null,
      "outputs": []
    },
    {
      "cell_type": "code",
      "metadata": {
        "id": "8940fd7b-fecf-45ad-9c6b-513894c96cd9"
      },
      "source": [
        "#get columns if -10 is more than 80% of values\n",
        "to_remove = []\n",
        "for col in background.columns:\n",
        "    counts =  background[col].value_counts()\n",
        "    if (counts.index[0] == -10) & (counts.iloc[0] >= 0.80 * len(background)):\n",
        "        to_remove.append(col)"
      ],
      "id": "8940fd7b-fecf-45ad-9c6b-513894c96cd9",
      "execution_count": null,
      "outputs": []
    },
    {
      "cell_type": "code",
      "metadata": {
        "id": "b5884eaa-d394-4214-9240-670de31cd52d"
      },
      "source": [
        "# Drop columns where -10 is more than 80% of values\n",
        "background.drop(to_remove, axis=1, inplace=True)"
      ],
      "id": "b5884eaa-d394-4214-9240-670de31cd52d",
      "execution_count": null,
      "outputs": []
    },
    {
      "cell_type": "code",
      "metadata": {
        "id": "5c3e4bf8-0451-465c-aaf5-58413de16bc0"
      },
      "source": [
        "# Get all 'object' type features\n",
        "objects = [col for col in background.columns if background[col].dtype == 'object']"
      ],
      "id": "5c3e4bf8-0451-465c-aaf5-58413de16bc0",
      "execution_count": null,
      "outputs": []
    },
    {
      "cell_type": "code",
      "metadata": {
        "id": "bcfb73f0-6950-47aa-be5c-b0d2e1fd78fe"
      },
      "source": [
        "len(objects)"
      ],
      "id": "bcfb73f0-6950-47aa-be5c-b0d2e1fd78fe",
      "execution_count": null,
      "outputs": []
    },
    {
      "cell_type": "code",
      "metadata": {
        "tags": [],
        "id": "e5a4e11b-90a3-4760-ba90-08790b204220"
      },
      "source": [
        "#convert all values in object columns to string type\n",
        "for col in objects:\n",
        "    background[col] = [str(item) for item in background[col]]"
      ],
      "id": "e5a4e11b-90a3-4760-ba90-08790b204220",
      "execution_count": null,
      "outputs": []
    },
    {
      "cell_type": "code",
      "metadata": {
        "id": "f07da48a-4a5b-4273-9f90-4d6dd86bdaa1"
      },
      "source": [
        "# dummy all 'object' type features\n",
        "for col in objects:\n",
        "    background = pd.get_dummies(background, columns=[col], prefix = f'dummy_{col}')"
      ],
      "id": "f07da48a-4a5b-4273-9f90-4d6dd86bdaa1",
      "execution_count": null,
      "outputs": []
    },
    {
      "cell_type": "code",
      "metadata": {
        "id": "429dacd4-7c17-4f40-b6b4-ae8684031141"
      },
      "source": [
        "#Group features as categorical if less than 15 unique values and no float\n",
        "cat = []\n",
        "for col in background.columns:\n",
        "    if col[0:5] != 'dummy':\n",
        "        if (len(background[col].unique()) <= 15) & (len([item for item in background[col] if isinstance(item, float)])==0) :\n",
        "            cat.append(col)"
      ],
      "id": "429dacd4-7c17-4f40-b6b4-ae8684031141",
      "execution_count": null,
      "outputs": []
    },
    {
      "cell_type": "code",
      "metadata": {
        "id": "201c0a20-983a-46e3-80ee-bb42435be662"
      },
      "source": [
        "len(cat)"
      ],
      "id": "201c0a20-983a-46e3-80ee-bb42435be662",
      "execution_count": null,
      "outputs": []
    },
    {
      "cell_type": "code",
      "metadata": {
        "id": "6bd5d7e1-fd5b-46a4-b65c-0eca1aedc4de"
      },
      "source": [
        "# for feature in those labelled as categorical, if most common value is not -10 and it represents 80% or more of total non-negative, values, replace column with majority or minority dummy \n",
        "to_dummy = []\n",
        "for col in cat:\n",
        "    if background[col].value_counts().index[0] != -10:\n",
        "        if pd.DataFrame(background[col].value_counts()).iloc[0, 0] >= len(background[col]) * 0.80:\n",
        "            to_dummy.append(col)\n",
        "            cat.remove(col)"
      ],
      "id": "6bd5d7e1-fd5b-46a4-b65c-0eca1aedc4de",
      "execution_count": null,
      "outputs": []
    },
    {
      "cell_type": "code",
      "metadata": {
        "id": "840a8519-ac41-4899-80cc-898adad6eea3"
      },
      "source": [
        "# Create separate -10, -1, -2 dummies for all majority/minority classes defined in prior cell\n",
        "for col in to_dummy:\n",
        "    background[f'{col}_-10'] = (background[col] == -10)*1\n",
        "    background[f'{col}_-1'] = (background[col] == -1)*1\n",
        "    background[f'{col}_-2'] = (background[col] == -2)*1\n",
        "    i+=1\n",
        "    print(i)"
      ],
      "id": "840a8519-ac41-4899-80cc-898adad6eea3",
      "execution_count": null,
      "outputs": []
    },
    {
      "cell_type": "code",
      "metadata": {
        "id": "485871e5-fe27-40b1-a91c-31b4ade7d76e"
      },
      "source": [
        "#create majority dummy\n",
        "for col in to_dummy:\n",
        "    background[f'{col}_ismax'] = (background[col] == background[col].value_counts().index[0]) * 1\n",
        "    background.drop(col, axis=1, inplace=True)\n",
        "    print(i)"
      ],
      "id": "485871e5-fe27-40b1-a91c-31b4ade7d76e",
      "execution_count": null,
      "outputs": []
    },
    {
      "cell_type": "code",
      "metadata": {
        "id": "91c8cae7-fa8b-4d44-872c-57df66e82b36"
      },
      "source": [
        "background = pd.get_dummies(background, columns=cat)"
      ],
      "id": "91c8cae7-fa8b-4d44-872c-57df66e82b36",
      "execution_count": null,
      "outputs": []
    },
    {
      "cell_type": "code",
      "metadata": {
        "id": "c21c9777-2e63-480d-a3a4-83abab2ca0dc"
      },
      "source": [
        "#create dummies for all columns with -10, -2, -1 as values, so that can be converted to nan for future imputation\n",
        "i = 0\n",
        "for column in background.columns:\n",
        "    if -10 in list(background[column]):\n",
        "        background[f'{column}_-10'] = (background[column] == -10) * 1\n",
        "    if -2 in list(background[column]): \n",
        "        background[f'{column}_-2'] = (background[column] == -2) * 1\n",
        "    if -1 in list(background[column]):\n",
        "        background[f'{column}_-1'] = (background[column] == -1) *1\n",
        "    i+=1\n",
        "    print(i)"
      ],
      "id": "c21c9777-2e63-480d-a3a4-83abab2ca0dc",
      "execution_count": null,
      "outputs": []
    },
    {
      "cell_type": "code",
      "metadata": {
        "id": "f4edc550-53c3-4969-81b6-a90c54aa64fb"
      },
      "source": [
        "#replace all negative values with nan for future imputation\n",
        "background.replace(to_replace=-10, value=np.nan, inplace=True)\n",
        "background.replace(to_replace=-1, value=np.nan, inplace=True)\n",
        "background.replace(to_replace=-2, value=np.nan, inplace=True)\n",
        "background.replace(to_replace='nan', value=np.nan, inplace=True)"
      ],
      "id": "f4edc550-53c3-4969-81b6-a90c54aa64fb",
      "execution_count": null,
      "outputs": []
    },
    {
      "cell_type": "code",
      "metadata": {
        "id": "e1fc0b96-09d1-4c0e-b4e6-f760330c9874"
      },
      "source": [
        "#final cleaning\n",
        "for column in background.columns:\n",
        "    if '<' in column:\n",
        "        newstr = column.replace(\"<\", \"greater\")\n",
        "        background = background.rename(columns={column: newstr})\n",
        "    if '>' in column:\n",
        "        newstr = column.replace(\">\", \"less\")\n",
        "        background = background.rename(columns={column: newstr})\n",
        "        \n",
        "    \n",
        "   "
      ],
      "id": "e1fc0b96-09d1-4c0e-b4e6-f760330c9874",
      "execution_count": null,
      "outputs": []
    },
    {
      "cell_type": "code",
      "metadata": {
        "id": "20cc1a5f-f880-4dcc-8c83-309cab4f3425"
      },
      "source": [
        "#background.to_csv('cleaned_background.csv', index=True)"
      ],
      "id": "20cc1a5f-f880-4dcc-8c83-309cab4f3425",
      "execution_count": null,
      "outputs": []
    },
    {
      "cell_type": "code",
      "metadata": {
        "id": "6007c81b-c573-41eb-9785-305c2bed7f93"
      },
      "source": [
        "background = pd.read_csv('cleaned_background.csv')"
      ],
      "id": "6007c81b-c573-41eb-9785-305c2bed7f93",
      "execution_count": null,
      "outputs": []
    },
    {
      "cell_type": "code",
      "metadata": {
        "id": "90600732-4e1f-4089-8bb7-145f3da906a9"
      },
      "source": [
        "background.set_index('challengeID', inplace=True)"
      ],
      "id": "90600732-4e1f-4089-8bb7-145f3da906a9",
      "execution_count": null,
      "outputs": []
    }
  ]
}